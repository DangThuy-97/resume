{
 "cells": [
  {
   "attachments": {},
   "cell_type": "markdown",
   "metadata": {},
   "source": [
    "## Step 0: Imports and Reading Data"
   ]
  },
  {
   "cell_type": "code",
   "execution_count": 1,
   "metadata": {},
   "outputs": [],
   "source": [
    "import pandas as pd\n",
    "import numpy as np\n",
    "import matplotlib.pylab as plt\n",
    "import seaborn as sns\n"
   ]
  },
  {
   "cell_type": "code",
   "execution_count": 2,
   "metadata": {},
   "outputs": [],
   "source": [
    "df=pd.read_csv(r\"C:\\Users\\ADMIN\\Desktop\\python_ws\\data\\movie_netflixrating\\Netflix_User_Ratings.csv\")"
   ]
  },
  {
   "cell_type": "code",
   "execution_count": 3,
   "metadata": {},
   "outputs": [],
   "source": [
    "movie_df = pd.read_csv(r\"C:\\Users\\ADMIN\\Desktop\\python_ws\\data\\movie_netflixrating\\movies.csv\")"
   ]
  },
  {
   "attachments": {},
   "cell_type": "markdown",
   "metadata": {},
   "source": [
    "## Step 1: Understanding Data\n",
    "\n",
    "- Dataframe shape\n",
    "- head and tail\n",
    "- dtypes\n",
    "- describe"
   ]
  },
  {
   "cell_type": "code",
   "execution_count": 4,
   "metadata": {},
   "outputs": [
    {
     "data": {
      "text/plain": [
       "(100480507, 4)"
      ]
     },
     "execution_count": 4,
     "metadata": {},
     "output_type": "execute_result"
    }
   ],
   "source": [
    "df.shape"
   ]
  },
  {
   "cell_type": "code",
   "execution_count": 5,
   "metadata": {},
   "outputs": [
    {
     "data": {
      "text/plain": [
       "(17770, 3)"
      ]
     },
     "execution_count": 5,
     "metadata": {},
     "output_type": "execute_result"
    }
   ],
   "source": [
    "movie_df.shape"
   ]
  },
  {
   "cell_type": "code",
   "execution_count": 6,
   "metadata": {},
   "outputs": [
    {
     "data": {
      "text/html": [
       "<div>\n",
       "<style scoped>\n",
       "    .dataframe tbody tr th:only-of-type {\n",
       "        vertical-align: middle;\n",
       "    }\n",
       "\n",
       "    .dataframe tbody tr th {\n",
       "        vertical-align: top;\n",
       "    }\n",
       "\n",
       "    .dataframe thead th {\n",
       "        text-align: right;\n",
       "    }\n",
       "</style>\n",
       "<table border=\"1\" class=\"dataframe\">\n",
       "  <thead>\n",
       "    <tr style=\"text-align: right;\">\n",
       "      <th></th>\n",
       "      <th>CustId</th>\n",
       "      <th>Rating</th>\n",
       "      <th>Date</th>\n",
       "      <th>MovieId</th>\n",
       "    </tr>\n",
       "  </thead>\n",
       "  <tbody>\n",
       "    <tr>\n",
       "      <th>0</th>\n",
       "      <td>1488844</td>\n",
       "      <td>3</td>\n",
       "      <td>2005-09-06</td>\n",
       "      <td>1</td>\n",
       "    </tr>\n",
       "    <tr>\n",
       "      <th>1</th>\n",
       "      <td>822109</td>\n",
       "      <td>5</td>\n",
       "      <td>2005-05-13</td>\n",
       "      <td>1</td>\n",
       "    </tr>\n",
       "    <tr>\n",
       "      <th>2</th>\n",
       "      <td>885013</td>\n",
       "      <td>4</td>\n",
       "      <td>2005-10-19</td>\n",
       "      <td>1</td>\n",
       "    </tr>\n",
       "    <tr>\n",
       "      <th>3</th>\n",
       "      <td>30878</td>\n",
       "      <td>4</td>\n",
       "      <td>2005-12-26</td>\n",
       "      <td>1</td>\n",
       "    </tr>\n",
       "    <tr>\n",
       "      <th>4</th>\n",
       "      <td>823519</td>\n",
       "      <td>3</td>\n",
       "      <td>2004-05-03</td>\n",
       "      <td>1</td>\n",
       "    </tr>\n",
       "  </tbody>\n",
       "</table>\n",
       "</div>"
      ],
      "text/plain": [
       "    CustId  Rating        Date  MovieId\n",
       "0  1488844       3  2005-09-06        1\n",
       "1   822109       5  2005-05-13        1\n",
       "2   885013       4  2005-10-19        1\n",
       "3    30878       4  2005-12-26        1\n",
       "4   823519       3  2004-05-03        1"
      ]
     },
     "execution_count": 6,
     "metadata": {},
     "output_type": "execute_result"
    }
   ],
   "source": [
    "df.head(5)"
   ]
  },
  {
   "cell_type": "code",
   "execution_count": 7,
   "metadata": {},
   "outputs": [
    {
     "data": {
      "text/html": [
       "<div>\n",
       "<style scoped>\n",
       "    .dataframe tbody tr th:only-of-type {\n",
       "        vertical-align: middle;\n",
       "    }\n",
       "\n",
       "    .dataframe tbody tr th {\n",
       "        vertical-align: top;\n",
       "    }\n",
       "\n",
       "    .dataframe thead th {\n",
       "        text-align: right;\n",
       "    }\n",
       "</style>\n",
       "<table border=\"1\" class=\"dataframe\">\n",
       "  <thead>\n",
       "    <tr style=\"text-align: right;\">\n",
       "      <th></th>\n",
       "      <th>MovieId</th>\n",
       "      <th>ReleaseYear</th>\n",
       "      <th>MovieTitle</th>\n",
       "    </tr>\n",
       "  </thead>\n",
       "  <tbody>\n",
       "    <tr>\n",
       "      <th>0</th>\n",
       "      <td>1</td>\n",
       "      <td>2003.0</td>\n",
       "      <td>Dinosaur Planet</td>\n",
       "    </tr>\n",
       "    <tr>\n",
       "      <th>1</th>\n",
       "      <td>2</td>\n",
       "      <td>2004.0</td>\n",
       "      <td>Isle of Man TT 2004 Review</td>\n",
       "    </tr>\n",
       "    <tr>\n",
       "      <th>2</th>\n",
       "      <td>3</td>\n",
       "      <td>1997.0</td>\n",
       "      <td>Character</td>\n",
       "    </tr>\n",
       "    <tr>\n",
       "      <th>3</th>\n",
       "      <td>4</td>\n",
       "      <td>1994.0</td>\n",
       "      <td>Paula Abdul's Get Up &amp; Dance</td>\n",
       "    </tr>\n",
       "    <tr>\n",
       "      <th>4</th>\n",
       "      <td>5</td>\n",
       "      <td>2004.0</td>\n",
       "      <td>The Rise and Fall of ECW</td>\n",
       "    </tr>\n",
       "  </tbody>\n",
       "</table>\n",
       "</div>"
      ],
      "text/plain": [
       "   MovieId  ReleaseYear                    MovieTitle\n",
       "0        1       2003.0               Dinosaur Planet\n",
       "1        2       2004.0    Isle of Man TT 2004 Review\n",
       "2        3       1997.0                     Character\n",
       "3        4       1994.0  Paula Abdul's Get Up & Dance\n",
       "4        5       2004.0      The Rise and Fall of ECW"
      ]
     },
     "execution_count": 7,
     "metadata": {},
     "output_type": "execute_result"
    }
   ],
   "source": [
    "movie_df.head()"
   ]
  },
  {
   "cell_type": "code",
   "execution_count": 8,
   "metadata": {},
   "outputs": [
    {
     "name": "stdout",
     "output_type": "stream",
     "text": [
      "<class 'pandas.core.frame.DataFrame'>\n",
      "RangeIndex: 100480507 entries, 0 to 100480506\n",
      "Data columns (total 4 columns):\n",
      " #   Column   Dtype \n",
      "---  ------   ----- \n",
      " 0   CustId   int64 \n",
      " 1   Rating   int64 \n",
      " 2   Date     object\n",
      " 3   MovieId  int64 \n",
      "dtypes: int64(3), object(1)\n",
      "memory usage: 3.0+ GB\n"
     ]
    }
   ],
   "source": [
    "df.info()"
   ]
  },
  {
   "cell_type": "code",
   "execution_count": 9,
   "metadata": {},
   "outputs": [
    {
     "name": "stdout",
     "output_type": "stream",
     "text": [
      "<class 'pandas.core.frame.DataFrame'>\n",
      "RangeIndex: 17770 entries, 0 to 17769\n",
      "Data columns (total 3 columns):\n",
      " #   Column       Non-Null Count  Dtype  \n",
      "---  ------       --------------  -----  \n",
      " 0   MovieId      17770 non-null  int64  \n",
      " 1   ReleaseYear  17763 non-null  float64\n",
      " 2   MovieTitle   17770 non-null  object \n",
      "dtypes: float64(1), int64(1), object(1)\n",
      "memory usage: 416.6+ KB\n"
     ]
    }
   ],
   "source": [
    "movie_df.info()"
   ]
  },
  {
   "attachments": {},
   "cell_type": "markdown",
   "metadata": {},
   "source": [
    "## Step 2: Preparing Data\n",
    "- Dropping irrelevant columns and rows\n",
    "- Identifying duplicated columns\n",
    "- Renaming Columns\n",
    "- Feature Creation"
   ]
  },
  {
   "cell_type": "code",
   "execution_count": 10,
   "metadata": {},
   "outputs": [
    {
     "data": {
      "text/plain": [
       "CustId     0\n",
       "Rating     0\n",
       "Date       0\n",
       "MovieId    0\n",
       "dtype: int64"
      ]
     },
     "execution_count": 10,
     "metadata": {},
     "output_type": "execute_result"
    }
   ],
   "source": [
    "df.isna().sum()"
   ]
  },
  {
   "cell_type": "code",
   "execution_count": 11,
   "metadata": {},
   "outputs": [
    {
     "data": {
      "text/plain": [
       "0"
      ]
     },
     "execution_count": 11,
     "metadata": {},
     "output_type": "execute_result"
    }
   ],
   "source": [
    "\n",
    "df.duplicated(keep=False).sum()"
   ]
  },
  {
   "cell_type": "code",
   "execution_count": 12,
   "metadata": {},
   "outputs": [
    {
     "data": {
      "text/plain": [
       "0"
      ]
     },
     "execution_count": 12,
     "metadata": {},
     "output_type": "execute_result"
    }
   ],
   "source": [
    "movie_df.duplicated(keep=False).sum()"
   ]
  },
  {
   "cell_type": "code",
   "execution_count": 13,
   "metadata": {},
   "outputs": [],
   "source": [
    "df.Date = pd.to_datetime(df.Date)"
   ]
  },
  {
   "cell_type": "code",
   "execution_count": 14,
   "metadata": {},
   "outputs": [],
   "source": [
    "df3 = pd.merge(df,movie_df,how = 'left', on = 'MovieId')"
   ]
  },
  {
   "cell_type": "code",
   "execution_count": 15,
   "metadata": {},
   "outputs": [
    {
     "data": {
      "text/html": [
       "<div>\n",
       "<style scoped>\n",
       "    .dataframe tbody tr th:only-of-type {\n",
       "        vertical-align: middle;\n",
       "    }\n",
       "\n",
       "    .dataframe tbody tr th {\n",
       "        vertical-align: top;\n",
       "    }\n",
       "\n",
       "    .dataframe thead th {\n",
       "        text-align: right;\n",
       "    }\n",
       "</style>\n",
       "<table border=\"1\" class=\"dataframe\">\n",
       "  <thead>\n",
       "    <tr style=\"text-align: right;\">\n",
       "      <th></th>\n",
       "      <th>CustId</th>\n",
       "      <th>Rating</th>\n",
       "      <th>Date</th>\n",
       "      <th>MovieId</th>\n",
       "      <th>ReleaseYear</th>\n",
       "      <th>MovieTitle</th>\n",
       "    </tr>\n",
       "  </thead>\n",
       "  <tbody>\n",
       "    <tr>\n",
       "      <th>0</th>\n",
       "      <td>1488844</td>\n",
       "      <td>3</td>\n",
       "      <td>2005-09-06</td>\n",
       "      <td>1</td>\n",
       "      <td>2003.0</td>\n",
       "      <td>Dinosaur Planet</td>\n",
       "    </tr>\n",
       "    <tr>\n",
       "      <th>1</th>\n",
       "      <td>822109</td>\n",
       "      <td>5</td>\n",
       "      <td>2005-05-13</td>\n",
       "      <td>1</td>\n",
       "      <td>2003.0</td>\n",
       "      <td>Dinosaur Planet</td>\n",
       "    </tr>\n",
       "    <tr>\n",
       "      <th>2</th>\n",
       "      <td>885013</td>\n",
       "      <td>4</td>\n",
       "      <td>2005-10-19</td>\n",
       "      <td>1</td>\n",
       "      <td>2003.0</td>\n",
       "      <td>Dinosaur Planet</td>\n",
       "    </tr>\n",
       "    <tr>\n",
       "      <th>3</th>\n",
       "      <td>30878</td>\n",
       "      <td>4</td>\n",
       "      <td>2005-12-26</td>\n",
       "      <td>1</td>\n",
       "      <td>2003.0</td>\n",
       "      <td>Dinosaur Planet</td>\n",
       "    </tr>\n",
       "    <tr>\n",
       "      <th>4</th>\n",
       "      <td>823519</td>\n",
       "      <td>3</td>\n",
       "      <td>2004-05-03</td>\n",
       "      <td>1</td>\n",
       "      <td>2003.0</td>\n",
       "      <td>Dinosaur Planet</td>\n",
       "    </tr>\n",
       "  </tbody>\n",
       "</table>\n",
       "</div>"
      ],
      "text/plain": [
       "    CustId  Rating       Date  MovieId  ReleaseYear       MovieTitle\n",
       "0  1488844       3 2005-09-06        1       2003.0  Dinosaur Planet\n",
       "1   822109       5 2005-05-13        1       2003.0  Dinosaur Planet\n",
       "2   885013       4 2005-10-19        1       2003.0  Dinosaur Planet\n",
       "3    30878       4 2005-12-26        1       2003.0  Dinosaur Planet\n",
       "4   823519       3 2004-05-03        1       2003.0  Dinosaur Planet"
      ]
     },
     "execution_count": 15,
     "metadata": {},
     "output_type": "execute_result"
    }
   ],
   "source": [
    "df3.head()"
   ]
  },
  {
   "cell_type": "code",
   "execution_count": 16,
   "metadata": {},
   "outputs": [
    {
     "data": {
      "text/plain": [
       "(100480507, 6)"
      ]
     },
     "execution_count": 16,
     "metadata": {},
     "output_type": "execute_result"
    }
   ],
   "source": [
    "df3.shape"
   ]
  },
  {
   "attachments": {},
   "cell_type": "markdown",
   "metadata": {},
   "source": [
    "## Step 3: Feature Understanding \n",
    "(Univariate analysis)\n",
    "- Plotting Feature Distributions\n",
    "    - Histogram\n",
    "    - KDE\n",
    "    - Plot"
   ]
  },
  {
   "cell_type": "code",
   "execution_count": 18,
   "metadata": {},
   "outputs": [
    {
     "data": {
      "text/plain": [
       "<Axes: ylabel='Frequency'>"
      ]
     },
     "execution_count": 18,
     "metadata": {},
     "output_type": "execute_result"
    },
    {
     "data": {
      "image/png": "[encoded data removed]",
      "text/plain": [
       "<Figure size 640x480 with 1 Axes>"
      ]
     },
     "metadata": {},
     "output_type": "display_data"
    }
   ],
   "source": [
    "df3.Rating.plot(kind='hist')"
   ]
  },
  {
   "cell_type": "code",
   "execution_count": 19,
   "metadata": {},
   "outputs": [
    {
     "data": {
      "image/png": "[encoded data removed]",
      "text/plain": [
       "<Figure size 640x480 with 1 Axes>"
      ]
     },
     "metadata": {},
     "output_type": "display_data"
    }
   ],
   "source": [
    "avg_rating_by_year = df3.groupby('ReleaseYear').Rating.mean().sort_values(ascending=False).head(20).plot(\n",
    "    kind='bar'\n",
    ")"
   ]
  },
  {
   "attachments": {},
   "cell_type": "markdown",
   "metadata": {},
   "source": [
    "Interestingly, those movies in the early years get the highest rating out of viewers, although they may not have the highest view counts."
   ]
  },
  {
   "cell_type": "code",
   "execution_count": 50,
   "metadata": {},
   "outputs": [
    {
     "data": {
      "text/plain": [
       "ReleaseYear\n",
       "2004.0    10456339\n",
       "2003.0     9576604\n",
       "2002.0     8640932\n",
       "2001.0     7241888\n",
       "2000.0     6599655\n",
       "1999.0     5630324\n",
       "1998.0     4381315\n",
       "1997.0     3688435\n",
       "1995.0     3328639\n",
       "1996.0     3321619\n",
       "1994.0     2865492\n",
       "1993.0     2622986\n",
       "1992.0     2344290\n",
       "1989.0     2061596\n",
       "1987.0     2039540\n",
       "1990.0     2031924\n",
       "2005.0     1983802\n",
       "1988.0     1796449\n",
       "1991.0     1718330\n",
       "1984.0     1475720\n",
       "Name: count, dtype: int64"
      ]
     },
     "execution_count": 50,
     "metadata": {},
     "output_type": "execute_result"
    }
   ],
   "source": [
    "df3.ReleaseYear.value_counts().sort_values(ascending=False).head(20)"
   ]
  },
  {
   "attachments": {},
   "cell_type": "markdown",
   "metadata": {},
   "source": [
    "#### Observations:\n",
    "\n",
    "We can see that movies from 1996 to 2004 are the most watched. It is quite interesting since it's in the lastest years of the 20th century and the early 21st century. We perhaps can analyse only the movies from these years.\n",
    "\n",
    "Maybe this is the golden era of the movies making industry? \n",
    "\n",
    "We can narrow down the year scope from 1990 to 2005 (since latest year in Dataset is 2005)\n",
    "\n",
    "One reason why the view counts of the movies in the past are so low may be because there weren't a lot of movies to choose and also Netflix doesn't have a lot of movies in those years. Furthermore, movies are produced in much larger quantity in later years than the early days.  Also, the viewers are exposed more to modern movies, which were created in 1990 - 2005.\n",
    "\n",
    "Hence, we shall look into the movies only from 1990 to 2005.\n",
    "\n",
    "The older movies get a different analysis of their own."
   ]
  },
  {
   "cell_type": "code",
   "execution_count": 17,
   "metadata": {},
   "outputs": [],
   "source": [
    "md_df =df3.loc[\n",
    "    (df3.ReleaseYear > 1990) &\n",
    "    (df3.ReleaseYear <2010)\n",
    "]"
   ]
  },
  {
   "cell_type": "code",
   "execution_count": 18,
   "metadata": {},
   "outputs": [
    {
     "data": {
      "text/plain": [
       "(74400650, 6)"
      ]
     },
     "execution_count": 18,
     "metadata": {},
     "output_type": "execute_result"
    }
   ],
   "source": [
    "md_df.shape"
   ]
  },
  {
   "attachments": {},
   "cell_type": "markdown",
   "metadata": {},
   "source": [
    "Let's see the View count and mean of each movie."
   ]
  },
  {
   "cell_type": "code",
   "execution_count": 69,
   "metadata": {},
   "outputs": [
    {
     "data": {
      "text/html": [
       "<div>\n",
       "<style scoped>\n",
       "    .dataframe tbody tr th:only-of-type {\n",
       "        vertical-align: middle;\n",
       "    }\n",
       "\n",
       "    .dataframe tbody tr th {\n",
       "        vertical-align: top;\n",
       "    }\n",
       "\n",
       "    .dataframe thead th {\n",
       "        text-align: right;\n",
       "    }\n",
       "</style>\n",
       "<table border=\"1\" class=\"dataframe\">\n",
       "  <thead>\n",
       "    <tr style=\"text-align: right;\">\n",
       "      <th></th>\n",
       "      <th>mean</th>\n",
       "      <th>count</th>\n",
       "    </tr>\n",
       "    <tr>\n",
       "      <th>MovieTitle</th>\n",
       "      <th></th>\n",
       "      <th></th>\n",
       "    </tr>\n",
       "  </thead>\n",
       "  <tbody>\n",
       "    <tr>\n",
       "      <th>Lord of the Rings: The Return of the King: Extended Edition</th>\n",
       "      <td>4.723270</td>\n",
       "      <td>73335</td>\n",
       "    </tr>\n",
       "    <tr>\n",
       "      <th>The Lord of the Rings: The Fellowship of the Ring: Extended Edition</th>\n",
       "      <td>4.716611</td>\n",
       "      <td>73422</td>\n",
       "    </tr>\n",
       "    <tr>\n",
       "      <th>Lord of the Rings: The Two Towers: Extended Edition</th>\n",
       "      <td>4.702611</td>\n",
       "      <td>74912</td>\n",
       "    </tr>\n",
       "    <tr>\n",
       "      <th>Lost: Season 1</th>\n",
       "      <td>4.670989</td>\n",
       "      <td>7249</td>\n",
       "    </tr>\n",
       "    <tr>\n",
       "      <th>Battlestar Galactica: Season 1</th>\n",
       "      <td>4.638809</td>\n",
       "      <td>1747</td>\n",
       "    </tr>\n",
       "    <tr>\n",
       "      <th>Fullmetal Alchemist</th>\n",
       "      <td>4.605021</td>\n",
       "      <td>1633</td>\n",
       "    </tr>\n",
       "    <tr>\n",
       "      <th>Trailer Park Boys: Season 4</th>\n",
       "      <td>4.600000</td>\n",
       "      <td>25</td>\n",
       "    </tr>\n",
       "    <tr>\n",
       "      <th>Trailer Park Boys: Season 3</th>\n",
       "      <td>4.600000</td>\n",
       "      <td>75</td>\n",
       "    </tr>\n",
       "    <tr>\n",
       "      <th>Tenchi Muyo! Ryo Ohki</th>\n",
       "      <td>4.595506</td>\n",
       "      <td>89</td>\n",
       "    </tr>\n",
       "    <tr>\n",
       "      <th>The Shawshank Redemption: Special Edition</th>\n",
       "      <td>4.593384</td>\n",
       "      <td>139660</td>\n",
       "    </tr>\n",
       "    <tr>\n",
       "      <th>Veronica Mars: Season 1</th>\n",
       "      <td>4.592084</td>\n",
       "      <td>1238</td>\n",
       "    </tr>\n",
       "    <tr>\n",
       "      <th>Ghost in the Shell: Stand Alone Complex: 2nd Gig</th>\n",
       "      <td>4.586364</td>\n",
       "      <td>220</td>\n",
       "    </tr>\n",
       "    <tr>\n",
       "      <th>Arrested Development: Season 2</th>\n",
       "      <td>4.582389</td>\n",
       "      <td>6621</td>\n",
       "    </tr>\n",
       "    <tr>\n",
       "      <th>The Simpsons: Season 6</th>\n",
       "      <td>4.581296</td>\n",
       "      <td>8426</td>\n",
       "    </tr>\n",
       "    <tr>\n",
       "      <th>Inu-Yasha</th>\n",
       "      <td>4.554434</td>\n",
       "      <td>1883</td>\n",
       "    </tr>\n",
       "    <tr>\n",
       "      <th>Lord of the Rings: The Return of the King: Extended Edition: Bonus Material</th>\n",
       "      <td>4.552000</td>\n",
       "      <td>125</td>\n",
       "    </tr>\n",
       "    <tr>\n",
       "      <th>Lord of the Rings: The Return of the King</th>\n",
       "      <td>4.545121</td>\n",
       "      <td>134284</td>\n",
       "    </tr>\n",
       "    <tr>\n",
       "      <th>The Simpsons: Season 5</th>\n",
       "      <td>4.542563</td>\n",
       "      <td>17292</td>\n",
       "    </tr>\n",
       "    <tr>\n",
       "      <th>Fruits Basket</th>\n",
       "      <td>4.538913</td>\n",
       "      <td>681</td>\n",
       "    </tr>\n",
       "    <tr>\n",
       "      <th>The Sopranos: Season 5</th>\n",
       "      <td>4.534334</td>\n",
       "      <td>21043</td>\n",
       "    </tr>\n",
       "  </tbody>\n",
       "</table>\n",
       "</div>"
      ],
      "text/plain": [
       "                                                        mean   count\n",
       "MovieTitle                                                          \n",
       "Lord of the Rings: The Return of the King: Exte...  4.723270   73335\n",
       "The Lord of the Rings: The Fellowship of the Ri...  4.716611   73422\n",
       "Lord of the Rings: The Two Towers: Extended Edi...  4.702611   74912\n",
       "Lost: Season 1                                      4.670989    7249\n",
       "Battlestar Galactica: Season 1                      4.638809    1747\n",
       "Fullmetal Alchemist                                 4.605021    1633\n",
       "Trailer Park Boys: Season 4                         4.600000      25\n",
       "Trailer Park Boys: Season 3                         4.600000      75\n",
       "Tenchi Muyo! Ryo Ohki                               4.595506      89\n",
       "The Shawshank Redemption: Special Edition           4.593384  139660\n",
       "Veronica Mars: Season 1                             4.592084    1238\n",
       "Ghost in the Shell: Stand Alone Complex: 2nd Gig    4.586364     220\n",
       "Arrested Development: Season 2                      4.582389    6621\n",
       "The Simpsons: Season 6                              4.581296    8426\n",
       "Inu-Yasha                                           4.554434    1883\n",
       "Lord of the Rings: The Return of the King: Exte...  4.552000     125\n",
       "Lord of the Rings: The Return of the King           4.545121  134284\n",
       "The Simpsons: Season 5                              4.542563   17292\n",
       "Fruits Basket                                       4.538913     681\n",
       "The Sopranos: Season 5                              4.534334   21043"
      ]
     },
     "execution_count": 69,
     "metadata": {},
     "output_type": "execute_result"
    }
   ],
   "source": [
    "df4.groupby('MovieTitle').Rating.agg(['mean','count']) \\\n",
    "    .sort_values('mean',ascending=False) \\\n",
    "    .head(20)"
   ]
  },
  {
   "attachments": {},
   "cell_type": "markdown",
   "metadata": {},
   "source": [
    "#### Observations:\n",
    "\n",
    "We can see that there are some movies with low view rate but still gets high rating. Perhaps we should categorise movies in to view count bins, where movies with counts: less than 1k, 1k to 10k, 10k to 100k, and more than 100k.\n",
    "\n",
    "We will also calculate the average rating of each movie."
   ]
  },
  {
   "cell_type": "code",
   "execution_count": 19,
   "metadata": {},
   "outputs": [],
   "source": [
    "a = pd.DataFrame(md_df.groupby('MovieTitle').Rating.agg(['mean','count']).sort_values('count',ascending=False))\n"
   ]
  },
  {
   "cell_type": "code",
   "execution_count": 20,
   "metadata": {},
   "outputs": [
    {
     "data": {
      "text/html": [
       "<div>\n",
       "<style scoped>\n",
       "    .dataframe tbody tr th:only-of-type {\n",
       "        vertical-align: middle;\n",
       "    }\n",
       "\n",
       "    .dataframe tbody tr th {\n",
       "        vertical-align: top;\n",
       "    }\n",
       "\n",
       "    .dataframe thead th {\n",
       "        text-align: right;\n",
       "    }\n",
       "</style>\n",
       "<table border=\"1\" class=\"dataframe\">\n",
       "  <thead>\n",
       "    <tr style=\"text-align: right;\">\n",
       "      <th></th>\n",
       "      <th>mean</th>\n",
       "      <th>count</th>\n",
       "    </tr>\n",
       "    <tr>\n",
       "      <th>MovieTitle</th>\n",
       "      <th></th>\n",
       "      <th></th>\n",
       "    </tr>\n",
       "  </thead>\n",
       "  <tbody>\n",
       "    <tr>\n",
       "      <th>Miss Congeniality</th>\n",
       "      <td>3.361267</td>\n",
       "      <td>232944</td>\n",
       "    </tr>\n",
       "    <tr>\n",
       "      <th>Independence Day</th>\n",
       "      <td>3.724238</td>\n",
       "      <td>216596</td>\n",
       "    </tr>\n",
       "    <tr>\n",
       "      <th>The Patriot</th>\n",
       "      <td>3.747955</td>\n",
       "      <td>211764</td>\n",
       "    </tr>\n",
       "    <tr>\n",
       "      <th>The Day After Tomorrow</th>\n",
       "      <td>3.442166</td>\n",
       "      <td>196397</td>\n",
       "    </tr>\n",
       "    <tr>\n",
       "      <th>Pirates of the Caribbean: The Curse of the Black Pearl</th>\n",
       "      <td>4.153908</td>\n",
       "      <td>193941</td>\n",
       "    </tr>\n",
       "  </tbody>\n",
       "</table>\n",
       "</div>"
      ],
      "text/plain": [
       "                                                        mean   count\n",
       "MovieTitle                                                          \n",
       "Miss Congeniality                                   3.361267  232944\n",
       "Independence Day                                    3.724238  216596\n",
       "The Patriot                                         3.747955  211764\n",
       "The Day After Tomorrow                              3.442166  196397\n",
       "Pirates of the Caribbean: The Curse of the Blac...  4.153908  193941"
      ]
     },
     "execution_count": 20,
     "metadata": {},
     "output_type": "execute_result"
    }
   ],
   "source": [
    "a.head()"
   ]
  },
  {
   "cell_type": "code",
   "execution_count": 21,
   "metadata": {},
   "outputs": [],
   "source": [
    "a.rename(columns = {'mean:':'mean_rating','count':'view_count'},inplace=True)"
   ]
  },
  {
   "cell_type": "code",
   "execution_count": 22,
   "metadata": {},
   "outputs": [
    {
     "data": {
      "text/html": [
       "<div>\n",
       "<style scoped>\n",
       "    .dataframe tbody tr th:only-of-type {\n",
       "        vertical-align: middle;\n",
       "    }\n",
       "\n",
       "    .dataframe tbody tr th {\n",
       "        vertical-align: top;\n",
       "    }\n",
       "\n",
       "    .dataframe thead th {\n",
       "        text-align: right;\n",
       "    }\n",
       "</style>\n",
       "<table border=\"1\" class=\"dataframe\">\n",
       "  <thead>\n",
       "    <tr style=\"text-align: right;\">\n",
       "      <th></th>\n",
       "      <th>mean</th>\n",
       "      <th>view_count</th>\n",
       "    </tr>\n",
       "    <tr>\n",
       "      <th>MovieTitle</th>\n",
       "      <th></th>\n",
       "      <th></th>\n",
       "    </tr>\n",
       "  </thead>\n",
       "  <tbody>\n",
       "    <tr>\n",
       "      <th>Miss Congeniality</th>\n",
       "      <td>3.361267</td>\n",
       "      <td>232944</td>\n",
       "    </tr>\n",
       "    <tr>\n",
       "      <th>Independence Day</th>\n",
       "      <td>3.724238</td>\n",
       "      <td>216596</td>\n",
       "    </tr>\n",
       "    <tr>\n",
       "      <th>The Patriot</th>\n",
       "      <td>3.747955</td>\n",
       "      <td>211764</td>\n",
       "    </tr>\n",
       "    <tr>\n",
       "      <th>The Day After Tomorrow</th>\n",
       "      <td>3.442166</td>\n",
       "      <td>196397</td>\n",
       "    </tr>\n",
       "    <tr>\n",
       "      <th>Pirates of the Caribbean: The Curse of the Black Pearl</th>\n",
       "      <td>4.153908</td>\n",
       "      <td>193941</td>\n",
       "    </tr>\n",
       "  </tbody>\n",
       "</table>\n",
       "</div>"
      ],
      "text/plain": [
       "                                                        mean  view_count\n",
       "MovieTitle                                                              \n",
       "Miss Congeniality                                   3.361267      232944\n",
       "Independence Day                                    3.724238      216596\n",
       "The Patriot                                         3.747955      211764\n",
       "The Day After Tomorrow                              3.442166      196397\n",
       "Pirates of the Caribbean: The Curse of the Blac...  4.153908      193941"
      ]
     },
     "execution_count": 22,
     "metadata": {},
     "output_type": "execute_result"
    }
   ],
   "source": [
    "a.head()"
   ]
  },
  {
   "cell_type": "code",
   "execution_count": 23,
   "metadata": {},
   "outputs": [],
   "source": [
    "md_df = md_df.merge(a,how = 'left', on = 'MovieTitle')"
   ]
  },
  {
   "cell_type": "code",
   "execution_count": 24,
   "metadata": {},
   "outputs": [
    {
     "data": {
      "text/html": [
       "<div>\n",
       "<style scoped>\n",
       "    .dataframe tbody tr th:only-of-type {\n",
       "        vertical-align: middle;\n",
       "    }\n",
       "\n",
       "    .dataframe tbody tr th {\n",
       "        vertical-align: top;\n",
       "    }\n",
       "\n",
       "    .dataframe thead th {\n",
       "        text-align: right;\n",
       "    }\n",
       "</style>\n",
       "<table border=\"1\" class=\"dataframe\">\n",
       "  <thead>\n",
       "    <tr style=\"text-align: right;\">\n",
       "      <th></th>\n",
       "      <th>CustId</th>\n",
       "      <th>Rating</th>\n",
       "      <th>Date</th>\n",
       "      <th>MovieId</th>\n",
       "      <th>ReleaseYear</th>\n",
       "      <th>MovieTitle</th>\n",
       "      <th>mean</th>\n",
       "      <th>view_count</th>\n",
       "    </tr>\n",
       "  </thead>\n",
       "  <tbody>\n",
       "    <tr>\n",
       "      <th>0</th>\n",
       "      <td>1488844</td>\n",
       "      <td>3</td>\n",
       "      <td>2005-09-06</td>\n",
       "      <td>1</td>\n",
       "      <td>2003.0</td>\n",
       "      <td>Dinosaur Planet</td>\n",
       "      <td>3.749543</td>\n",
       "      <td>547</td>\n",
       "    </tr>\n",
       "    <tr>\n",
       "      <th>1</th>\n",
       "      <td>822109</td>\n",
       "      <td>5</td>\n",
       "      <td>2005-05-13</td>\n",
       "      <td>1</td>\n",
       "      <td>2003.0</td>\n",
       "      <td>Dinosaur Planet</td>\n",
       "      <td>3.749543</td>\n",
       "      <td>547</td>\n",
       "    </tr>\n",
       "    <tr>\n",
       "      <th>2</th>\n",
       "      <td>885013</td>\n",
       "      <td>4</td>\n",
       "      <td>2005-10-19</td>\n",
       "      <td>1</td>\n",
       "      <td>2003.0</td>\n",
       "      <td>Dinosaur Planet</td>\n",
       "      <td>3.749543</td>\n",
       "      <td>547</td>\n",
       "    </tr>\n",
       "    <tr>\n",
       "      <th>3</th>\n",
       "      <td>30878</td>\n",
       "      <td>4</td>\n",
       "      <td>2005-12-26</td>\n",
       "      <td>1</td>\n",
       "      <td>2003.0</td>\n",
       "      <td>Dinosaur Planet</td>\n",
       "      <td>3.749543</td>\n",
       "      <td>547</td>\n",
       "    </tr>\n",
       "    <tr>\n",
       "      <th>4</th>\n",
       "      <td>823519</td>\n",
       "      <td>3</td>\n",
       "      <td>2004-05-03</td>\n",
       "      <td>1</td>\n",
       "      <td>2003.0</td>\n",
       "      <td>Dinosaur Planet</td>\n",
       "      <td>3.749543</td>\n",
       "      <td>547</td>\n",
       "    </tr>\n",
       "  </tbody>\n",
       "</table>\n",
       "</div>"
      ],
      "text/plain": [
       "    CustId  Rating       Date  MovieId  ReleaseYear       MovieTitle   \n",
       "0  1488844       3 2005-09-06        1       2003.0  Dinosaur Planet  \\\n",
       "1   822109       5 2005-05-13        1       2003.0  Dinosaur Planet   \n",
       "2   885013       4 2005-10-19        1       2003.0  Dinosaur Planet   \n",
       "3    30878       4 2005-12-26        1       2003.0  Dinosaur Planet   \n",
       "4   823519       3 2004-05-03        1       2003.0  Dinosaur Planet   \n",
       "\n",
       "       mean  view_count  \n",
       "0  3.749543         547  \n",
       "1  3.749543         547  \n",
       "2  3.749543         547  \n",
       "3  3.749543         547  \n",
       "4  3.749543         547  "
      ]
     },
     "execution_count": 24,
     "metadata": {},
     "output_type": "execute_result"
    }
   ],
   "source": [
    "md_df.head()"
   ]
  },
  {
   "cell_type": "code",
   "execution_count": 25,
   "metadata": {},
   "outputs": [],
   "source": [
    "md_df.rename(columns = {'mean':'mean_rating'},inplace=True)"
   ]
  },
  {
   "attachments": {},
   "cell_type": "markdown",
   "metadata": {},
   "source": [
    "### Let's check the case where one user watch a movie multiple times"
   ]
  },
  {
   "cell_type": "code",
   "execution_count": 26,
   "metadata": {},
   "outputs": [
    {
     "data": {
      "text/plain": [
       "122810"
      ]
     },
     "execution_count": 26,
     "metadata": {},
     "output_type": "execute_result"
    }
   ],
   "source": [
    "md_df.duplicated(subset=['CustId','MovieTitle'],keep=False).sum()"
   ]
  },
  {
   "attachments": {},
   "cell_type": "markdown",
   "metadata": {},
   "source": [
    "#### Observations:\n",
    "\n",
    "There are a lot of cases where the same Customer id watch one movie multiple times with different ratings.\n",
    "\n",
    "I believe each of the various ratings that one same person gives a movie should reflect different movie experiences that he perceives. Therefore, the average rating of a movie should also include the multiple ratings from the same person.\n",
    "\n",
    "However, there might be cases where counting these multiple ratings from one same person could result in biased result. For example, one person or a fandom club may spam watching their favorite movies and always give 5 stars. Hence, I will calculate another adjusted rating using only the latest rating one CustID for a movie."
   ]
  },
  {
   "cell_type": "code",
   "execution_count": 27,
   "metadata": {},
   "outputs": [],
   "source": [
    "md_df2 = md_df.sort_values('Date',ascending=False)"
   ]
  },
  {
   "cell_type": "code",
   "execution_count": 28,
   "metadata": {},
   "outputs": [],
   "source": [
    "md_df2.drop_duplicates(subset=['CustId','MovieTitle'], keep='first',inplace=True)"
   ]
  },
  {
   "cell_type": "code",
   "execution_count": 29,
   "metadata": {},
   "outputs": [
    {
     "data": {
      "text/html": [
       "<div>\n",
       "<style scoped>\n",
       "    .dataframe tbody tr th:only-of-type {\n",
       "        vertical-align: middle;\n",
       "    }\n",
       "\n",
       "    .dataframe tbody tr th {\n",
       "        vertical-align: top;\n",
       "    }\n",
       "\n",
       "    .dataframe thead th {\n",
       "        text-align: right;\n",
       "    }\n",
       "</style>\n",
       "<table border=\"1\" class=\"dataframe\">\n",
       "  <thead>\n",
       "    <tr style=\"text-align: right;\">\n",
       "      <th></th>\n",
       "      <th>CustId</th>\n",
       "      <th>Rating</th>\n",
       "      <th>Date</th>\n",
       "      <th>MovieId</th>\n",
       "      <th>ReleaseYear</th>\n",
       "      <th>MovieTitle</th>\n",
       "      <th>mean_rating</th>\n",
       "      <th>view_count</th>\n",
       "    </tr>\n",
       "  </thead>\n",
       "  <tbody>\n",
       "    <tr>\n",
       "      <th>13561890</th>\n",
       "      <td>2119509</td>\n",
       "      <td>2</td>\n",
       "      <td>2005-12-31</td>\n",
       "      <td>3427</td>\n",
       "      <td>2002.0</td>\n",
       "      <td>Men in Black II</td>\n",
       "      <td>3.334731</td>\n",
       "      <td>136850</td>\n",
       "    </tr>\n",
       "    <tr>\n",
       "      <th>42392284</th>\n",
       "      <td>951152</td>\n",
       "      <td>5</td>\n",
       "      <td>2005-12-31</td>\n",
       "      <td>10644</td>\n",
       "      <td>2002.0</td>\n",
       "      <td>The West Wing: Season 4</td>\n",
       "      <td>4.452753</td>\n",
       "      <td>5122</td>\n",
       "    </tr>\n",
       "    <tr>\n",
       "      <th>49948647</th>\n",
       "      <td>2630966</td>\n",
       "      <td>5</td>\n",
       "      <td>2005-12-31</td>\n",
       "      <td>12423</td>\n",
       "      <td>1993.0</td>\n",
       "      <td>Dr. Quinn Medicine Woman: Season 1</td>\n",
       "      <td>3.603719</td>\n",
       "      <td>1721</td>\n",
       "    </tr>\n",
       "    <tr>\n",
       "      <th>49948570</th>\n",
       "      <td>2316429</td>\n",
       "      <td>3</td>\n",
       "      <td>2005-12-31</td>\n",
       "      <td>12423</td>\n",
       "      <td>1993.0</td>\n",
       "      <td>Dr. Quinn Medicine Woman: Season 1</td>\n",
       "      <td>3.603719</td>\n",
       "      <td>1721</td>\n",
       "    </tr>\n",
       "    <tr>\n",
       "      <th>7861061</th>\n",
       "      <td>930958</td>\n",
       "      <td>2</td>\n",
       "      <td>2005-12-31</td>\n",
       "      <td>2008</td>\n",
       "      <td>2005.0</td>\n",
       "      <td>Hercules</td>\n",
       "      <td>3.638662</td>\n",
       "      <td>19580</td>\n",
       "    </tr>\n",
       "  </tbody>\n",
       "</table>\n",
       "</div>"
      ],
      "text/plain": [
       "           CustId  Rating       Date  MovieId  ReleaseYear   \n",
       "13561890  2119509       2 2005-12-31     3427       2002.0  \\\n",
       "42392284   951152       5 2005-12-31    10644       2002.0   \n",
       "49948647  2630966       5 2005-12-31    12423       1993.0   \n",
       "49948570  2316429       3 2005-12-31    12423       1993.0   \n",
       "7861061    930958       2 2005-12-31     2008       2005.0   \n",
       "\n",
       "                                  MovieTitle  mean_rating  view_count  \n",
       "13561890                     Men in Black II     3.334731      136850  \n",
       "42392284             The West Wing: Season 4     4.452753        5122  \n",
       "49948647  Dr. Quinn Medicine Woman: Season 1     3.603719        1721  \n",
       "49948570  Dr. Quinn Medicine Woman: Season 1     3.603719        1721  \n",
       "7861061                             Hercules     3.638662       19580  "
      ]
     },
     "execution_count": 29,
     "metadata": {},
     "output_type": "execute_result"
    }
   ],
   "source": [
    "md_df2.head()"
   ]
  },
  {
   "cell_type": "code",
   "execution_count": 30,
   "metadata": {},
   "outputs": [
    {
     "data": {
      "text/plain": [
       "(74400650, 8)"
      ]
     },
     "execution_count": 30,
     "metadata": {},
     "output_type": "execute_result"
    }
   ],
   "source": [
    "md_df.shape"
   ]
  },
  {
   "cell_type": "code",
   "execution_count": 33,
   "metadata": {},
   "outputs": [],
   "source": [
    "b = pd.DataFrame(md_df2.groupby('MovieTitle').Rating.mean())"
   ]
  },
  {
   "cell_type": "code",
   "execution_count": 35,
   "metadata": {},
   "outputs": [],
   "source": [
    "b.rename(columns = {'Rating':'adjusted_mean_rating'},inplace=True)"
   ]
  },
  {
   "cell_type": "code",
   "execution_count": 36,
   "metadata": {},
   "outputs": [
    {
     "data": {
      "text/html": [
       "<div>\n",
       "<style scoped>\n",
       "    .dataframe tbody tr th:only-of-type {\n",
       "        vertical-align: middle;\n",
       "    }\n",
       "\n",
       "    .dataframe tbody tr th {\n",
       "        vertical-align: top;\n",
       "    }\n",
       "\n",
       "    .dataframe thead th {\n",
       "        text-align: right;\n",
       "    }\n",
       "</style>\n",
       "<table border=\"1\" class=\"dataframe\">\n",
       "  <thead>\n",
       "    <tr style=\"text-align: right;\">\n",
       "      <th></th>\n",
       "      <th>adjusted_mean_rating</th>\n",
       "    </tr>\n",
       "    <tr>\n",
       "      <th>MovieTitle</th>\n",
       "      <th></th>\n",
       "    </tr>\n",
       "  </thead>\n",
       "  <tbody>\n",
       "    <tr>\n",
       "      <th>'N Sync: 'N the Mix</th>\n",
       "      <td>2.655936</td>\n",
       "    </tr>\n",
       "    <tr>\n",
       "      <th>'N Sync: Live at Madison Square Garden</th>\n",
       "      <td>2.890884</td>\n",
       "    </tr>\n",
       "    <tr>\n",
       "      <th>'N Sync: Making of the Tour</th>\n",
       "      <td>2.782016</td>\n",
       "    </tr>\n",
       "    <tr>\n",
       "      <th>'N Sync: PopOdyssey Live</th>\n",
       "      <td>3.413043</td>\n",
       "    </tr>\n",
       "    <tr>\n",
       "      <th>'N Sync: Unauthorized Biography</th>\n",
       "      <td>2.208955</td>\n",
       "    </tr>\n",
       "  </tbody>\n",
       "</table>\n",
       "</div>"
      ],
      "text/plain": [
       "                                        adjusted_mean_rating\n",
       "MovieTitle                                                  \n",
       "'N Sync: 'N the Mix                                 2.655936\n",
       "'N Sync: Live at Madison Square Garden              2.890884\n",
       "'N Sync: Making of the Tour                         2.782016\n",
       "'N Sync: PopOdyssey Live                            3.413043\n",
       "'N Sync: Unauthorized Biography                     2.208955"
      ]
     },
     "execution_count": 36,
     "metadata": {},
     "output_type": "execute_result"
    }
   ],
   "source": [
    "b.head()"
   ]
  },
  {
   "attachments": {},
   "cell_type": "markdown",
   "metadata": {},
   "source": []
  },
  {
   "cell_type": "code",
   "execution_count": 44,
   "metadata": {},
   "outputs": [
    {
     "ename": "MemoryError",
     "evalue": "Unable to allocate 568. MiB for an array with shape (74400650,) and data type int64",
     "output_type": "error",
     "traceback": [
      "\u001b[1;31m---------------------------------------------------------------------------\u001b[0m",
      "\u001b[1;31mMemoryError\u001b[0m                               Traceback (most recent call last)",
      "Cell \u001b[1;32mIn[44], line 1\u001b[0m\n\u001b[1;32m----> 1\u001b[0m md_df \u001b[39m=\u001b[39m md_df\u001b[39m.\u001b[39;49mmerge(b,how \u001b[39m=\u001b[39;49m \u001b[39m'\u001b[39;49m\u001b[39mleft\u001b[39;49m\u001b[39m'\u001b[39;49m, on\u001b[39m=\u001b[39;49m \u001b[39m'\u001b[39;49m\u001b[39mMovieTitle\u001b[39;49m\u001b[39m'\u001b[39;49m)\n",
      "File \u001b[1;32mc:\\Users\\ADMIN\\AppData\\Local\\Programs\\Python\\Python310\\lib\\site-packages\\pandas\\core\\frame.py:9848\u001b[0m, in \u001b[0;36mDataFrame.merge\u001b[1;34m(self, right, how, on, left_on, right_on, left_index, right_index, sort, suffixes, copy, indicator, validate)\u001b[0m\n\u001b[0;32m   9829\u001b[0m \u001b[39m@Substitution\u001b[39m(\u001b[39m\"\u001b[39m\u001b[39m\"\u001b[39m)\n\u001b[0;32m   9830\u001b[0m \u001b[39m@Appender\u001b[39m(_merge_doc, indents\u001b[39m=\u001b[39m\u001b[39m2\u001b[39m)\n\u001b[0;32m   9831\u001b[0m \u001b[39mdef\u001b[39;00m \u001b[39mmerge\u001b[39m(\n\u001b[1;32m   (...)\u001b[0m\n\u001b[0;32m   9844\u001b[0m     validate: \u001b[39mstr\u001b[39m \u001b[39m|\u001b[39m \u001b[39mNone\u001b[39;00m \u001b[39m=\u001b[39m \u001b[39mNone\u001b[39;00m,\n\u001b[0;32m   9845\u001b[0m ) \u001b[39m-\u001b[39m\u001b[39m>\u001b[39m DataFrame:\n\u001b[0;32m   9846\u001b[0m     \u001b[39mfrom\u001b[39;00m \u001b[39mpandas\u001b[39;00m\u001b[39m.\u001b[39;00m\u001b[39mcore\u001b[39;00m\u001b[39m.\u001b[39;00m\u001b[39mreshape\u001b[39;00m\u001b[39m.\u001b[39;00m\u001b[39mmerge\u001b[39;00m \u001b[39mimport\u001b[39;00m merge\n\u001b[1;32m-> 9848\u001b[0m     \u001b[39mreturn\u001b[39;00m merge(\n\u001b[0;32m   9849\u001b[0m         \u001b[39mself\u001b[39;49m,\n\u001b[0;32m   9850\u001b[0m         right,\n\u001b[0;32m   9851\u001b[0m         how\u001b[39m=\u001b[39;49mhow,\n\u001b[0;32m   9852\u001b[0m         on\u001b[39m=\u001b[39;49mon,\n\u001b[0;32m   9853\u001b[0m         left_on\u001b[39m=\u001b[39;49mleft_on,\n\u001b[0;32m   9854\u001b[0m         right_on\u001b[39m=\u001b[39;49mright_on,\n\u001b[0;32m   9855\u001b[0m         left_index\u001b[39m=\u001b[39;49mleft_index,\n\u001b[0;32m   9856\u001b[0m         right_index\u001b[39m=\u001b[39;49mright_index,\n\u001b[0;32m   9857\u001b[0m         sort\u001b[39m=\u001b[39;49msort,\n\u001b[0;32m   9858\u001b[0m         suffixes\u001b[39m=\u001b[39;49msuffixes,\n\u001b[0;32m   9859\u001b[0m         copy\u001b[39m=\u001b[39;49mcopy,\n\u001b[0;32m   9860\u001b[0m         indicator\u001b[39m=\u001b[39;49mindicator,\n\u001b[0;32m   9861\u001b[0m         validate\u001b[39m=\u001b[39;49mvalidate,\n\u001b[0;32m   9862\u001b[0m     )\n",
      "File \u001b[1;32mc:\\Users\\ADMIN\\AppData\\Local\\Programs\\Python\\Python310\\lib\\site-packages\\pandas\\core\\reshape\\merge.py:158\u001b[0m, in \u001b[0;36mmerge\u001b[1;34m(left, right, how, on, left_on, right_on, left_index, right_index, sort, suffixes, copy, indicator, validate)\u001b[0m\n\u001b[0;32m    127\u001b[0m \u001b[39m@Substitution\u001b[39m(\u001b[39m\"\u001b[39m\u001b[39m\\n\u001b[39;00m\u001b[39mleft : DataFrame or named Series\u001b[39m\u001b[39m\"\u001b[39m)\n\u001b[0;32m    128\u001b[0m \u001b[39m@Appender\u001b[39m(_merge_doc, indents\u001b[39m=\u001b[39m\u001b[39m0\u001b[39m)\n\u001b[0;32m    129\u001b[0m \u001b[39mdef\u001b[39;00m \u001b[39mmerge\u001b[39m(\n\u001b[1;32m   (...)\u001b[0m\n\u001b[0;32m    142\u001b[0m     validate: \u001b[39mstr\u001b[39m \u001b[39m|\u001b[39m \u001b[39mNone\u001b[39;00m \u001b[39m=\u001b[39m \u001b[39mNone\u001b[39;00m,\n\u001b[0;32m    143\u001b[0m ) \u001b[39m-\u001b[39m\u001b[39m>\u001b[39m DataFrame:\n\u001b[0;32m    144\u001b[0m     op \u001b[39m=\u001b[39m _MergeOperation(\n\u001b[0;32m    145\u001b[0m         left,\n\u001b[0;32m    146\u001b[0m         right,\n\u001b[1;32m   (...)\u001b[0m\n\u001b[0;32m    156\u001b[0m         validate\u001b[39m=\u001b[39mvalidate,\n\u001b[0;32m    157\u001b[0m     )\n\u001b[1;32m--> 158\u001b[0m     \u001b[39mreturn\u001b[39;00m op\u001b[39m.\u001b[39;49mget_result(copy\u001b[39m=\u001b[39;49mcopy)\n",
      "File \u001b[1;32mc:\\Users\\ADMIN\\AppData\\Local\\Programs\\Python\\Python310\\lib\\site-packages\\pandas\\core\\reshape\\merge.py:805\u001b[0m, in \u001b[0;36m_MergeOperation.get_result\u001b[1;34m(self, copy)\u001b[0m\n\u001b[0;32m    802\u001b[0m \u001b[39mif\u001b[39;00m \u001b[39mself\u001b[39m\u001b[39m.\u001b[39mindicator:\n\u001b[0;32m    803\u001b[0m     \u001b[39mself\u001b[39m\u001b[39m.\u001b[39mleft, \u001b[39mself\u001b[39m\u001b[39m.\u001b[39mright \u001b[39m=\u001b[39m \u001b[39mself\u001b[39m\u001b[39m.\u001b[39m_indicator_pre_merge(\u001b[39mself\u001b[39m\u001b[39m.\u001b[39mleft, \u001b[39mself\u001b[39m\u001b[39m.\u001b[39mright)\n\u001b[1;32m--> 805\u001b[0m join_index, left_indexer, right_indexer \u001b[39m=\u001b[39m \u001b[39mself\u001b[39;49m\u001b[39m.\u001b[39;49m_get_join_info()\n\u001b[0;32m    807\u001b[0m result \u001b[39m=\u001b[39m \u001b[39mself\u001b[39m\u001b[39m.\u001b[39m_reindex_and_concat(\n\u001b[0;32m    808\u001b[0m     join_index, left_indexer, right_indexer, copy\u001b[39m=\u001b[39mcopy\n\u001b[0;32m    809\u001b[0m )\n\u001b[0;32m    810\u001b[0m result \u001b[39m=\u001b[39m result\u001b[39m.\u001b[39m__finalize__(\u001b[39mself\u001b[39m, method\u001b[39m=\u001b[39m\u001b[39mself\u001b[39m\u001b[39m.\u001b[39m_merge_type)\n",
      "File \u001b[1;32mc:\\Users\\ADMIN\\AppData\\Local\\Programs\\Python\\Python310\\lib\\site-packages\\pandas\\core\\reshape\\merge.py:1053\u001b[0m, in \u001b[0;36m_MergeOperation._get_join_info\u001b[1;34m(self)\u001b[0m\n\u001b[0;32m   1049\u001b[0m     join_index, right_indexer, left_indexer \u001b[39m=\u001b[39m _left_join_on_index(\n\u001b[0;32m   1050\u001b[0m         right_ax, left_ax, \u001b[39mself\u001b[39m\u001b[39m.\u001b[39mright_join_keys, sort\u001b[39m=\u001b[39m\u001b[39mself\u001b[39m\u001b[39m.\u001b[39msort\n\u001b[0;32m   1051\u001b[0m     )\n\u001b[0;32m   1052\u001b[0m \u001b[39melse\u001b[39;00m:\n\u001b[1;32m-> 1053\u001b[0m     (left_indexer, right_indexer) \u001b[39m=\u001b[39m \u001b[39mself\u001b[39;49m\u001b[39m.\u001b[39;49m_get_join_indexers()\n\u001b[0;32m   1055\u001b[0m     \u001b[39mif\u001b[39;00m \u001b[39mself\u001b[39m\u001b[39m.\u001b[39mright_index:\n\u001b[0;32m   1056\u001b[0m         \u001b[39mif\u001b[39;00m \u001b[39mlen\u001b[39m(\u001b[39mself\u001b[39m\u001b[39m.\u001b[39mleft) \u001b[39m>\u001b[39m \u001b[39m0\u001b[39m:\n",
      "File \u001b[1;32mc:\\Users\\ADMIN\\AppData\\Local\\Programs\\Python\\Python310\\lib\\site-packages\\pandas\\core\\reshape\\merge.py:1026\u001b[0m, in \u001b[0;36m_MergeOperation._get_join_indexers\u001b[1;34m(self)\u001b[0m\n\u001b[0;32m   1024\u001b[0m \u001b[39mdef\u001b[39;00m \u001b[39m_get_join_indexers\u001b[39m(\u001b[39mself\u001b[39m) \u001b[39m-\u001b[39m\u001b[39m>\u001b[39m \u001b[39mtuple\u001b[39m[npt\u001b[39m.\u001b[39mNDArray[np\u001b[39m.\u001b[39mintp], npt\u001b[39m.\u001b[39mNDArray[np\u001b[39m.\u001b[39mintp]]:\n\u001b[0;32m   1025\u001b[0m \u001b[39m    \u001b[39m\u001b[39m\"\"\"return the join indexers\"\"\"\u001b[39;00m\n\u001b[1;32m-> 1026\u001b[0m     \u001b[39mreturn\u001b[39;00m get_join_indexers(\n\u001b[0;32m   1027\u001b[0m         \u001b[39mself\u001b[39;49m\u001b[39m.\u001b[39;49mleft_join_keys, \u001b[39mself\u001b[39;49m\u001b[39m.\u001b[39;49mright_join_keys, sort\u001b[39m=\u001b[39;49m\u001b[39mself\u001b[39;49m\u001b[39m.\u001b[39;49msort, how\u001b[39m=\u001b[39;49m\u001b[39mself\u001b[39;49m\u001b[39m.\u001b[39;49mhow\n\u001b[0;32m   1028\u001b[0m     )\n",
      "File \u001b[1;32mc:\\Users\\ADMIN\\AppData\\Local\\Programs\\Python\\Python310\\lib\\site-packages\\pandas\\core\\reshape\\merge.py:1657\u001b[0m, in \u001b[0;36mget_join_indexers\u001b[1;34m(left_keys, right_keys, sort, how, **kwargs)\u001b[0m\n\u001b[0;32m   1651\u001b[0m lkey, rkey \u001b[39m=\u001b[39m _get_join_keys(llab, rlab, \u001b[39mtuple\u001b[39m(shape), sort)\n\u001b[0;32m   1653\u001b[0m \u001b[39m# factorize keys to a dense i8 space\u001b[39;00m\n\u001b[0;32m   1654\u001b[0m \u001b[39m# `count` is the num. of unique keys\u001b[39;00m\n\u001b[0;32m   1655\u001b[0m \u001b[39m# set(lkey) | set(rkey) == range(count)\u001b[39;00m\n\u001b[1;32m-> 1657\u001b[0m lkey, rkey, count \u001b[39m=\u001b[39m _factorize_keys(lkey, rkey, sort\u001b[39m=\u001b[39;49msort, how\u001b[39m=\u001b[39;49mhow)\n\u001b[0;32m   1658\u001b[0m \u001b[39m# preserve left frame order if how == 'left' and sort == False\u001b[39;00m\n\u001b[0;32m   1659\u001b[0m kwargs \u001b[39m=\u001b[39m cp\u001b[39m.\u001b[39mcopy(kwargs)\n",
      "File \u001b[1;32mc:\\Users\\ADMIN\\AppData\\Local\\Programs\\Python\\Python310\\lib\\site-packages\\pandas\\core\\reshape\\merge.py:2410\u001b[0m, in \u001b[0;36m_factorize_keys\u001b[1;34m(lk, rk, sort, how)\u001b[0m\n\u001b[0;32m   2403\u001b[0m     rlab \u001b[39m=\u001b[39m rizer\u001b[39m.\u001b[39mfactorize(\n\u001b[0;32m   2404\u001b[0m         rk\u001b[39m.\u001b[39mto_numpy(na_value\u001b[39m=\u001b[39m\u001b[39m1\u001b[39m, dtype\u001b[39m=\u001b[39mlk\u001b[39m.\u001b[39mdtype\u001b[39m.\u001b[39mnumpy_dtype), mask\u001b[39m=\u001b[39mrk\u001b[39m.\u001b[39misna()\n\u001b[0;32m   2405\u001b[0m     )\n\u001b[0;32m   2406\u001b[0m \u001b[39melse\u001b[39;00m:\n\u001b[0;32m   2407\u001b[0m     \u001b[39m# Argument 1 to \"factorize\" of \"ObjectFactorizer\" has incompatible type\u001b[39;00m\n\u001b[0;32m   2408\u001b[0m     \u001b[39m# \"Union[ndarray[Any, dtype[signedinteger[_64Bit]]],\u001b[39;00m\n\u001b[0;32m   2409\u001b[0m     \u001b[39m# ndarray[Any, dtype[object_]]]\"; expected \"ndarray[Any, dtype[object_]]\"\u001b[39;00m\n\u001b[1;32m-> 2410\u001b[0m     llab \u001b[39m=\u001b[39m rizer\u001b[39m.\u001b[39;49mfactorize(lk)  \u001b[39m# type: ignore[arg-type]\u001b[39;00m\n\u001b[0;32m   2411\u001b[0m     rlab \u001b[39m=\u001b[39m rizer\u001b[39m.\u001b[39mfactorize(rk)  \u001b[39m# type: ignore[arg-type]\u001b[39;00m\n\u001b[0;32m   2412\u001b[0m \u001b[39massert\u001b[39;00m llab\u001b[39m.\u001b[39mdtype \u001b[39m==\u001b[39m np\u001b[39m.\u001b[39mdtype(np\u001b[39m.\u001b[39mintp), llab\u001b[39m.\u001b[39mdtype\n",
      "File \u001b[1;32mpandas\\_libs\\hashtable_class_helper.pxi:3067\u001b[0m, in \u001b[0;36mpandas._libs.hashtable.Int64Factorizer.factorize\u001b[1;34m()\u001b[0m\n",
      "File \u001b[1;32mpandas\\_libs\\hashtable_class_helper.pxi:2984\u001b[0m, in \u001b[0;36mpandas._libs.hashtable.Int64HashTable.get_labels\u001b[1;34m()\u001b[0m\n",
      "File \u001b[1;32mpandas\\_libs\\hashtable_class_helper.pxi:2811\u001b[0m, in \u001b[0;36mpandas._libs.hashtable.Int64HashTable._unique\u001b[1;34m()\u001b[0m\n",
      "\u001b[1;31mMemoryError\u001b[0m: Unable to allocate 568. MiB for an array with shape (74400650,) and data type int64"
     ]
    }
   ],
   "source": [
    "md_df = md_df.merge(b,how = 'left', on= 'MovieTitle')"
   ]
  },
  {
   "cell_type": "code",
   "execution_count": 42,
   "metadata": {},
   "outputs": [
    {
     "data": {
      "text/html": [
       "<div>\n",
       "<style scoped>\n",
       "    .dataframe tbody tr th:only-of-type {\n",
       "        vertical-align: middle;\n",
       "    }\n",
       "\n",
       "    .dataframe tbody tr th {\n",
       "        vertical-align: top;\n",
       "    }\n",
       "\n",
       "    .dataframe thead th {\n",
       "        text-align: right;\n",
       "    }\n",
       "</style>\n",
       "<table border=\"1\" class=\"dataframe\">\n",
       "  <thead>\n",
       "    <tr style=\"text-align: right;\">\n",
       "      <th></th>\n",
       "      <th>CustId</th>\n",
       "      <th>Rating</th>\n",
       "      <th>Date</th>\n",
       "      <th>MovieId</th>\n",
       "      <th>ReleaseYear</th>\n",
       "      <th>MovieTitle</th>\n",
       "      <th>mean_rating</th>\n",
       "      <th>view_count</th>\n",
       "    </tr>\n",
       "  </thead>\n",
       "  <tbody>\n",
       "    <tr>\n",
       "      <th>0</th>\n",
       "      <td>1488844</td>\n",
       "      <td>3</td>\n",
       "      <td>2005-09-06</td>\n",
       "      <td>1</td>\n",
       "      <td>2003.0</td>\n",
       "      <td>Dinosaur Planet</td>\n",
       "      <td>3.749543</td>\n",
       "      <td>547</td>\n",
       "    </tr>\n",
       "    <tr>\n",
       "      <th>1</th>\n",
       "      <td>822109</td>\n",
       "      <td>5</td>\n",
       "      <td>2005-05-13</td>\n",
       "      <td>1</td>\n",
       "      <td>2003.0</td>\n",
       "      <td>Dinosaur Planet</td>\n",
       "      <td>3.749543</td>\n",
       "      <td>547</td>\n",
       "    </tr>\n",
       "    <tr>\n",
       "      <th>2</th>\n",
       "      <td>885013</td>\n",
       "      <td>4</td>\n",
       "      <td>2005-10-19</td>\n",
       "      <td>1</td>\n",
       "      <td>2003.0</td>\n",
       "      <td>Dinosaur Planet</td>\n",
       "      <td>3.749543</td>\n",
       "      <td>547</td>\n",
       "    </tr>\n",
       "    <tr>\n",
       "      <th>3</th>\n",
       "      <td>30878</td>\n",
       "      <td>4</td>\n",
       "      <td>2005-12-26</td>\n",
       "      <td>1</td>\n",
       "      <td>2003.0</td>\n",
       "      <td>Dinosaur Planet</td>\n",
       "      <td>3.749543</td>\n",
       "      <td>547</td>\n",
       "    </tr>\n",
       "    <tr>\n",
       "      <th>4</th>\n",
       "      <td>823519</td>\n",
       "      <td>3</td>\n",
       "      <td>2004-05-03</td>\n",
       "      <td>1</td>\n",
       "      <td>2003.0</td>\n",
       "      <td>Dinosaur Planet</td>\n",
       "      <td>3.749543</td>\n",
       "      <td>547</td>\n",
       "    </tr>\n",
       "  </tbody>\n",
       "</table>\n",
       "</div>"
      ],
      "text/plain": [
       "    CustId  Rating       Date  MovieId  ReleaseYear       MovieTitle   \n",
       "0  1488844       3 2005-09-06        1       2003.0  Dinosaur Planet  \\\n",
       "1   822109       5 2005-05-13        1       2003.0  Dinosaur Planet   \n",
       "2   885013       4 2005-10-19        1       2003.0  Dinosaur Planet   \n",
       "3    30878       4 2005-12-26        1       2003.0  Dinosaur Planet   \n",
       "4   823519       3 2004-05-03        1       2003.0  Dinosaur Planet   \n",
       "\n",
       "   mean_rating  view_count  \n",
       "0     3.749543         547  \n",
       "1     3.749543         547  \n",
       "2     3.749543         547  \n",
       "3     3.749543         547  \n",
       "4     3.749543         547  "
      ]
     },
     "execution_count": 42,
     "metadata": {},
     "output_type": "execute_result"
    }
   ],
   "source": [
    "md_df.head()"
   ]
  },
  {
   "cell_type": "code",
   "execution_count": null,
   "metadata": {},
   "outputs": [],
   "source": [
    "md_df.to_csv('out.csv')"
   ]
  }
 ],
 "metadata": {
  "kernelspec": {
   "display_name": "Python 3 (ipykernel)",
   "language": "python",
   "name": "python3"
  },
  "language_info": {
   "codemirror_mode": {
    "name": "ipython",
    "version": 3
   },
   "file_extension": ".py",
   "mimetype": "text/x-python",
   "name": "python",
   "nbconvert_exporter": "python",
   "pygments_lexer": "ipython3",
   "version": "3.10.11"
  }
 },
 "nbformat": 4,
 "nbformat_minor": 2
}
