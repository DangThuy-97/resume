{
 "cells": [
  {
   "cell_type": "code",
   "execution_count": 1,
   "metadata": {},
   "outputs": [],
   "source": [
    "import pandas as pd\n",
    "import numpy as np"
   ]
  },
  {
   "cell_type": "code",
   "execution_count": 4,
   "metadata": {},
   "outputs": [],
   "source": [
    "df = pd.read_csv(r\"E:\\Data\\Data Cleaning Practice\\club_member_info.csv\")"
   ]
  },
  {
   "cell_type": "code",
   "execution_count": 7,
   "metadata": {},
   "outputs": [
    {
     "data": {
      "text/html": [
       "<div>\n",
       "<style scoped>\n",
       "    .dataframe tbody tr th:only-of-type {\n",
       "        vertical-align: middle;\n",
       "    }\n",
       "\n",
       "    .dataframe tbody tr th {\n",
       "        vertical-align: top;\n",
       "    }\n",
       "\n",
       "    .dataframe thead th {\n",
       "        text-align: right;\n",
       "    }\n",
       "</style>\n",
       "<table border=\"1\" class=\"dataframe\">\n",
       "  <thead>\n",
       "    <tr style=\"text-align: right;\">\n",
       "      <th></th>\n",
       "      <th>full_name</th>\n",
       "      <th>age</th>\n",
       "      <th>martial_status</th>\n",
       "      <th>email</th>\n",
       "      <th>phone</th>\n",
       "      <th>full_address</th>\n",
       "      <th>job_title</th>\n",
       "      <th>membership_date</th>\n",
       "    </tr>\n",
       "  </thead>\n",
       "  <tbody>\n",
       "    <tr>\n",
       "      <th>0</th>\n",
       "      <td>addie lush</td>\n",
       "      <td>40.0</td>\n",
       "      <td>married</td>\n",
       "      <td>alush0@shutterfly.com</td>\n",
       "      <td>254-389-8708</td>\n",
       "      <td>3226 Eastlawn Pass,Temple,Texas</td>\n",
       "      <td>Assistant Professor</td>\n",
       "      <td>7/31/2013</td>\n",
       "    </tr>\n",
       "    <tr>\n",
       "      <th>1</th>\n",
       "      <td>ROCK CRADICK</td>\n",
       "      <td>46.0</td>\n",
       "      <td>married</td>\n",
       "      <td>rcradick1@newsvine.com</td>\n",
       "      <td>910-566-2007</td>\n",
       "      <td>4 Harbort Avenue,Fayetteville,North Carolina</td>\n",
       "      <td>Programmer III</td>\n",
       "      <td>5/27/2018</td>\n",
       "    </tr>\n",
       "    <tr>\n",
       "      <th>2</th>\n",
       "      <td>???Sydel Sharvell</td>\n",
       "      <td>46.0</td>\n",
       "      <td>divorced</td>\n",
       "      <td>ssharvell2@amazon.co.jp</td>\n",
       "      <td>702-187-8715</td>\n",
       "      <td>4 School Place,Las Vegas,Nevada</td>\n",
       "      <td>Budget/Accounting Analyst I</td>\n",
       "      <td>10/6/2017</td>\n",
       "    </tr>\n",
       "    <tr>\n",
       "      <th>3</th>\n",
       "      <td>Constantin de la cruz</td>\n",
       "      <td>35.0</td>\n",
       "      <td>NaN</td>\n",
       "      <td>co3@bloglines.com</td>\n",
       "      <td>402-688-7162</td>\n",
       "      <td>6 Monument Crossing,Omaha,Nebraska</td>\n",
       "      <td>Desktop Support Technician</td>\n",
       "      <td>10/20/2015</td>\n",
       "    </tr>\n",
       "    <tr>\n",
       "      <th>4</th>\n",
       "      <td>Gaylor Redhole</td>\n",
       "      <td>38.0</td>\n",
       "      <td>married</td>\n",
       "      <td>gredhole4@japanpost.jp</td>\n",
       "      <td>917-394-6001</td>\n",
       "      <td>88 Cherokee Pass,New York City,New York</td>\n",
       "      <td>Legal Assistant</td>\n",
       "      <td>5/29/2019</td>\n",
       "    </tr>\n",
       "  </tbody>\n",
       "</table>\n",
       "</div>"
      ],
      "text/plain": [
       "               full_name   age martial_status                    email   \n",
       "0             addie lush  40.0        married    alush0@shutterfly.com  \\\n",
       "1           ROCK CRADICK  46.0        married   rcradick1@newsvine.com   \n",
       "2      ???Sydel Sharvell  46.0       divorced  ssharvell2@amazon.co.jp   \n",
       "3  Constantin de la cruz  35.0            NaN        co3@bloglines.com   \n",
       "4         Gaylor Redhole  38.0        married   gredhole4@japanpost.jp   \n",
       "\n",
       "          phone                                  full_address   \n",
       "0  254-389-8708               3226 Eastlawn Pass,Temple,Texas  \\\n",
       "1  910-566-2007  4 Harbort Avenue,Fayetteville,North Carolina   \n",
       "2  702-187-8715               4 School Place,Las Vegas,Nevada   \n",
       "3  402-688-7162            6 Monument Crossing,Omaha,Nebraska   \n",
       "4  917-394-6001       88 Cherokee Pass,New York City,New York   \n",
       "\n",
       "                     job_title membership_date  \n",
       "0          Assistant Professor       7/31/2013  \n",
       "1               Programmer III       5/27/2018  \n",
       "2  Budget/Accounting Analyst I       10/6/2017  \n",
       "3   Desktop Support Technician      10/20/2015  \n",
       "4              Legal Assistant       5/29/2019  "
      ]
     },
     "execution_count": 7,
     "metadata": {},
     "output_type": "execute_result"
    }
   ],
   "source": [
    "df.head()"
   ]
  },
  {
   "cell_type": "code",
   "execution_count": 8,
   "metadata": {},
   "outputs": [
    {
     "name": "stdout",
     "output_type": "stream",
     "text": [
      "<class 'pandas.core.frame.DataFrame'>\n",
      "RangeIndex: 2010 entries, 0 to 2009\n",
      "Data columns (total 8 columns):\n",
      " #   Column           Non-Null Count  Dtype  \n",
      "---  ------           --------------  -----  \n",
      " 0   full_name        2010 non-null   object \n",
      " 1   age              2007 non-null   float64\n",
      " 2   martial_status   1990 non-null   object \n",
      " 3   email            2010 non-null   object \n",
      " 4   phone            2001 non-null   object \n",
      " 5   full_address     2010 non-null   object \n",
      " 6   job_title        1971 non-null   object \n",
      " 7   membership_date  2010 non-null   object \n",
      "dtypes: float64(1), object(7)\n",
      "memory usage: 125.8+ KB\n"
     ]
    }
   ],
   "source": [
    "df.info()"
   ]
  },
  {
   "cell_type": "code",
   "execution_count": 9,
   "metadata": {},
   "outputs": [
    {
     "data": {
      "text/html": [
       "<div>\n",
       "<style scoped>\n",
       "    .dataframe tbody tr th:only-of-type {\n",
       "        vertical-align: middle;\n",
       "    }\n",
       "\n",
       "    .dataframe tbody tr th {\n",
       "        vertical-align: top;\n",
       "    }\n",
       "\n",
       "    .dataframe thead th {\n",
       "        text-align: right;\n",
       "    }\n",
       "</style>\n",
       "<table border=\"1\" class=\"dataframe\">\n",
       "  <thead>\n",
       "    <tr style=\"text-align: right;\">\n",
       "      <th></th>\n",
       "      <th>age</th>\n",
       "    </tr>\n",
       "  </thead>\n",
       "  <tbody>\n",
       "    <tr>\n",
       "      <th>count</th>\n",
       "      <td>2007.000000</td>\n",
       "    </tr>\n",
       "    <tr>\n",
       "      <th>mean</th>\n",
       "      <td>44.926756</td>\n",
       "    </tr>\n",
       "    <tr>\n",
       "      <th>std</th>\n",
       "      <td>41.498191</td>\n",
       "    </tr>\n",
       "    <tr>\n",
       "      <th>min</th>\n",
       "      <td>18.000000</td>\n",
       "    </tr>\n",
       "    <tr>\n",
       "      <th>25%</th>\n",
       "      <td>32.000000</td>\n",
       "    </tr>\n",
       "    <tr>\n",
       "      <th>50%</th>\n",
       "      <td>41.000000</td>\n",
       "    </tr>\n",
       "    <tr>\n",
       "      <th>75%</th>\n",
       "      <td>51.000000</td>\n",
       "    </tr>\n",
       "    <tr>\n",
       "      <th>max</th>\n",
       "      <td>677.000000</td>\n",
       "    </tr>\n",
       "  </tbody>\n",
       "</table>\n",
       "</div>"
      ],
      "text/plain": [
       "               age\n",
       "count  2007.000000\n",
       "mean     44.926756\n",
       "std      41.498191\n",
       "min      18.000000\n",
       "25%      32.000000\n",
       "50%      41.000000\n",
       "75%      51.000000\n",
       "max     677.000000"
      ]
     },
     "execution_count": 9,
     "metadata": {},
     "output_type": "execute_result"
    }
   ],
   "source": [
    "df.describe()"
   ]
  },
  {
   "attachments": {},
   "cell_type": "markdown",
   "metadata": {},
   "source": [
    "### Remove outliers in `age`"
   ]
  },
  {
   "cell_type": "code",
   "execution_count": 11,
   "metadata": {},
   "outputs": [
    {
     "data": {
      "text/plain": [
       "<Axes: >"
      ]
     },
     "execution_count": 11,
     "metadata": {},
     "output_type": "execute_result"
    },
    {
     "data": {
      "image/png": "[encoded data removed]",
      "text/plain": [
       "<Figure size 640x480 with 1 Axes>"
      ]
     },
     "metadata": {},
     "output_type": "display_data"
    }
   ],
   "source": [
    "df.age.plot(kind='box')"
   ]
  },
  {
   "cell_type": "code",
   "execution_count": 12,
   "metadata": {},
   "outputs": [],
   "source": [
    "df.drop(df.loc[df.age > 100].index,inplace=True)"
   ]
  },
  {
   "cell_type": "code",
   "execution_count": 13,
   "metadata": {},
   "outputs": [
    {
     "data": {
      "text/plain": [
       "<Axes: >"
      ]
     },
     "execution_count": 13,
     "metadata": {},
     "output_type": "execute_result"
    },
    {
     "data": {
      "image/png": "[encoded data removed]",
      "text/plain": [
       "<Figure size 640x480 with 1 Axes>"
      ]
     },
     "metadata": {},
     "output_type": "display_data"
    }
   ],
   "source": [
    "df.age.plot(kind='box')"
   ]
  },
  {
   "cell_type": "code",
   "execution_count": 14,
   "metadata": {},
   "outputs": [
    {
     "data": {
      "text/plain": [
       "full_name           0\n",
       "age                 3\n",
       "martial_status     20\n",
       "email               0\n",
       "phone               8\n",
       "full_address        0\n",
       "job_title          39\n",
       "membership_date     0\n",
       "dtype: int64"
      ]
     },
     "execution_count": 14,
     "metadata": {},
     "output_type": "execute_result"
    }
   ],
   "source": [
    "df.isna().sum()"
   ]
  },
  {
   "attachments": {},
   "cell_type": "markdown",
   "metadata": {},
   "source": [
    "### Remove Duplicates \n"
   ]
  },
  {
   "cell_type": "code",
   "execution_count": 23,
   "metadata": {},
   "outputs": [
    {
     "data": {
      "text/plain": [
       "False    1978\n",
       "True       17\n",
       "Name: count, dtype: int64"
      ]
     },
     "execution_count": 23,
     "metadata": {},
     "output_type": "execute_result"
    }
   ],
   "source": [
    "df.duplicated(subset='email',keep=False).value_counts()"
   ]
  },
  {
   "cell_type": "code",
   "execution_count": 26,
   "metadata": {},
   "outputs": [],
   "source": [
    "df.drop_duplicates(subset='email',keep='first',inplace=True)"
   ]
  },
  {
   "attachments": {},
   "cell_type": "markdown",
   "metadata": {},
   "source": [
    "### Split `full_name` column into first name and last name, capitalize the first words and remove special characters."
   ]
  },
  {
   "cell_type": "code",
   "execution_count": 76,
   "metadata": {},
   "outputs": [],
   "source": [
    "df[['first_name','last_name']] = df.full_name.str.strip().str.split(' ',n=1,expand=True)"
   ]
  },
  {
   "cell_type": "code",
   "execution_count": 84,
   "metadata": {},
   "outputs": [
    {
     "data": {
      "text/html": [
       "<div>\n",
       "<style scoped>\n",
       "    .dataframe tbody tr th:only-of-type {\n",
       "        vertical-align: middle;\n",
       "    }\n",
       "\n",
       "    .dataframe tbody tr th {\n",
       "        vertical-align: top;\n",
       "    }\n",
       "\n",
       "    .dataframe thead th {\n",
       "        text-align: right;\n",
       "    }\n",
       "</style>\n",
       "<table border=\"1\" class=\"dataframe\">\n",
       "  <thead>\n",
       "    <tr style=\"text-align: right;\">\n",
       "      <th></th>\n",
       "      <th>full_name</th>\n",
       "      <th>age</th>\n",
       "      <th>martial_status</th>\n",
       "      <th>email</th>\n",
       "      <th>phone</th>\n",
       "      <th>full_address</th>\n",
       "      <th>job_title</th>\n",
       "      <th>membership_date</th>\n",
       "      <th>first_name</th>\n",
       "      <th>last_name</th>\n",
       "    </tr>\n",
       "  </thead>\n",
       "  <tbody>\n",
       "    <tr>\n",
       "      <th>0</th>\n",
       "      <td>addie lush</td>\n",
       "      <td>40.0</td>\n",
       "      <td>married</td>\n",
       "      <td>alush0@shutterfly.com</td>\n",
       "      <td>254-389-8708</td>\n",
       "      <td>3226 Eastlawn Pass,Temple,Texas</td>\n",
       "      <td>Assistant Professor</td>\n",
       "      <td>7/31/2013</td>\n",
       "      <td>addie</td>\n",
       "      <td>lush</td>\n",
       "    </tr>\n",
       "    <tr>\n",
       "      <th>1</th>\n",
       "      <td>ROCK CRADICK</td>\n",
       "      <td>46.0</td>\n",
       "      <td>married</td>\n",
       "      <td>rcradick1@newsvine.com</td>\n",
       "      <td>910-566-2007</td>\n",
       "      <td>4 Harbort Avenue,Fayetteville,North Carolina</td>\n",
       "      <td>Programmer III</td>\n",
       "      <td>5/27/2018</td>\n",
       "      <td>ROCK</td>\n",
       "      <td>CRADICK</td>\n",
       "    </tr>\n",
       "    <tr>\n",
       "      <th>2</th>\n",
       "      <td>???Sydel Sharvell</td>\n",
       "      <td>46.0</td>\n",
       "      <td>divorced</td>\n",
       "      <td>ssharvell2@amazon.co.jp</td>\n",
       "      <td>702-187-8715</td>\n",
       "      <td>4 School Place,Las Vegas,Nevada</td>\n",
       "      <td>Budget/Accounting Analyst I</td>\n",
       "      <td>10/6/2017</td>\n",
       "      <td>???Sydel</td>\n",
       "      <td>Sharvell</td>\n",
       "    </tr>\n",
       "    <tr>\n",
       "      <th>3</th>\n",
       "      <td>Constantin de la cruz</td>\n",
       "      <td>35.0</td>\n",
       "      <td>NaN</td>\n",
       "      <td>co3@bloglines.com</td>\n",
       "      <td>402-688-7162</td>\n",
       "      <td>6 Monument Crossing,Omaha,Nebraska</td>\n",
       "      <td>Desktop Support Technician</td>\n",
       "      <td>10/20/2015</td>\n",
       "      <td>Constantin</td>\n",
       "      <td>de la cruz</td>\n",
       "    </tr>\n",
       "    <tr>\n",
       "      <th>4</th>\n",
       "      <td>Gaylor Redhole</td>\n",
       "      <td>38.0</td>\n",
       "      <td>married</td>\n",
       "      <td>gredhole4@japanpost.jp</td>\n",
       "      <td>917-394-6001</td>\n",
       "      <td>88 Cherokee Pass,New York City,New York</td>\n",
       "      <td>Legal Assistant</td>\n",
       "      <td>5/29/2019</td>\n",
       "      <td>Gaylor</td>\n",
       "      <td>Redhole</td>\n",
       "    </tr>\n",
       "  </tbody>\n",
       "</table>\n",
       "</div>"
      ],
      "text/plain": [
       "               full_name   age martial_status                    email   \n",
       "0             addie lush  40.0        married    alush0@shutterfly.com  \\\n",
       "1           ROCK CRADICK  46.0        married   rcradick1@newsvine.com   \n",
       "2      ???Sydel Sharvell  46.0       divorced  ssharvell2@amazon.co.jp   \n",
       "3  Constantin de la cruz  35.0            NaN        co3@bloglines.com   \n",
       "4         Gaylor Redhole  38.0        married   gredhole4@japanpost.jp   \n",
       "\n",
       "          phone                                  full_address   \n",
       "0  254-389-8708               3226 Eastlawn Pass,Temple,Texas  \\\n",
       "1  910-566-2007  4 Harbort Avenue,Fayetteville,North Carolina   \n",
       "2  702-187-8715               4 School Place,Las Vegas,Nevada   \n",
       "3  402-688-7162            6 Monument Crossing,Omaha,Nebraska   \n",
       "4  917-394-6001       88 Cherokee Pass,New York City,New York   \n",
       "\n",
       "                     job_title membership_date  first_name   last_name  \n",
       "0          Assistant Professor       7/31/2013       addie        lush  \n",
       "1               Programmer III       5/27/2018        ROCK     CRADICK  \n",
       "2  Budget/Accounting Analyst I       10/6/2017    ???Sydel    Sharvell  \n",
       "3   Desktop Support Technician      10/20/2015  Constantin  de la cruz  \n",
       "4              Legal Assistant       5/29/2019      Gaylor     Redhole  "
      ]
     },
     "execution_count": 84,
     "metadata": {},
     "output_type": "execute_result"
    }
   ],
   "source": [
    "df.head()"
   ]
  },
  {
   "cell_type": "code",
   "execution_count": 89,
   "metadata": {},
   "outputs": [],
   "source": [
    "df.first_name = df.first_name.str.replace('?','')"
   ]
  },
  {
   "cell_type": "code",
   "execution_count": 93,
   "metadata": {},
   "outputs": [],
   "source": [
    "df.first_name=df.first_name.str.title()"
   ]
  },
  {
   "cell_type": "code",
   "execution_count": 109,
   "metadata": {},
   "outputs": [
    {
     "data": {
      "text/html": [
       "<div>\n",
       "<style scoped>\n",
       "    .dataframe tbody tr th:only-of-type {\n",
       "        vertical-align: middle;\n",
       "    }\n",
       "\n",
       "    .dataframe tbody tr th {\n",
       "        vertical-align: top;\n",
       "    }\n",
       "\n",
       "    .dataframe thead th {\n",
       "        text-align: right;\n",
       "    }\n",
       "</style>\n",
       "<table border=\"1\" class=\"dataframe\">\n",
       "  <thead>\n",
       "    <tr style=\"text-align: right;\">\n",
       "      <th></th>\n",
       "      <th>full_name</th>\n",
       "      <th>age</th>\n",
       "      <th>martial_status</th>\n",
       "      <th>email</th>\n",
       "      <th>phone</th>\n",
       "      <th>full_address</th>\n",
       "      <th>job_title</th>\n",
       "      <th>membership_date</th>\n",
       "      <th>first_name</th>\n",
       "      <th>last_name</th>\n",
       "      <th>a</th>\n",
       "    </tr>\n",
       "  </thead>\n",
       "  <tbody>\n",
       "    <tr>\n",
       "      <th>0</th>\n",
       "      <td>addie lush</td>\n",
       "      <td>40.0</td>\n",
       "      <td>married</td>\n",
       "      <td>alush0@shutterfly.com</td>\n",
       "      <td>254-389-8708</td>\n",
       "      <td>3226 Eastlawn Pass,Temple,Texas</td>\n",
       "      <td>Assistant Professor</td>\n",
       "      <td>7/31/2013</td>\n",
       "      <td>Addie</td>\n",
       "      <td>Lush</td>\n",
       "      <td>False</td>\n",
       "    </tr>\n",
       "    <tr>\n",
       "      <th>1</th>\n",
       "      <td>ROCK CRADICK</td>\n",
       "      <td>46.0</td>\n",
       "      <td>married</td>\n",
       "      <td>rcradick1@newsvine.com</td>\n",
       "      <td>910-566-2007</td>\n",
       "      <td>4 Harbort Avenue,Fayetteville,North Carolina</td>\n",
       "      <td>Programmer III</td>\n",
       "      <td>5/27/2018</td>\n",
       "      <td>Rock</td>\n",
       "      <td>Cradick</td>\n",
       "      <td>False</td>\n",
       "    </tr>\n",
       "    <tr>\n",
       "      <th>2</th>\n",
       "      <td>???Sydel Sharvell</td>\n",
       "      <td>46.0</td>\n",
       "      <td>divorced</td>\n",
       "      <td>ssharvell2@amazon.co.jp</td>\n",
       "      <td>702-187-8715</td>\n",
       "      <td>4 School Place,Las Vegas,Nevada</td>\n",
       "      <td>Budget/Accounting Analyst I</td>\n",
       "      <td>10/6/2017</td>\n",
       "      <td>Sydel</td>\n",
       "      <td>Sharvell</td>\n",
       "      <td>False</td>\n",
       "    </tr>\n",
       "    <tr>\n",
       "      <th>3</th>\n",
       "      <td>Constantin de la cruz</td>\n",
       "      <td>35.0</td>\n",
       "      <td>NaN</td>\n",
       "      <td>co3@bloglines.com</td>\n",
       "      <td>402-688-7162</td>\n",
       "      <td>6 Monument Crossing,Omaha,Nebraska</td>\n",
       "      <td>Desktop Support Technician</td>\n",
       "      <td>10/20/2015</td>\n",
       "      <td>Constantin</td>\n",
       "      <td>De La Cruz</td>\n",
       "      <td>False</td>\n",
       "    </tr>\n",
       "    <tr>\n",
       "      <th>4</th>\n",
       "      <td>Gaylor Redhole</td>\n",
       "      <td>38.0</td>\n",
       "      <td>married</td>\n",
       "      <td>gredhole4@japanpost.jp</td>\n",
       "      <td>917-394-6001</td>\n",
       "      <td>88 Cherokee Pass,New York City,New York</td>\n",
       "      <td>Legal Assistant</td>\n",
       "      <td>5/29/2019</td>\n",
       "      <td>Gaylor</td>\n",
       "      <td>Redhole</td>\n",
       "      <td>False</td>\n",
       "    </tr>\n",
       "  </tbody>\n",
       "</table>\n",
       "</div>"
      ],
      "text/plain": [
       "               full_name   age martial_status                    email   \n",
       "0             addie lush  40.0        married    alush0@shutterfly.com  \\\n",
       "1           ROCK CRADICK  46.0        married   rcradick1@newsvine.com   \n",
       "2      ???Sydel Sharvell  46.0       divorced  ssharvell2@amazon.co.jp   \n",
       "3  Constantin de la cruz  35.0            NaN        co3@bloglines.com   \n",
       "4         Gaylor Redhole  38.0        married   gredhole4@japanpost.jp   \n",
       "\n",
       "          phone                                  full_address   \n",
       "0  254-389-8708               3226 Eastlawn Pass,Temple,Texas  \\\n",
       "1  910-566-2007  4 Harbort Avenue,Fayetteville,North Carolina   \n",
       "2  702-187-8715               4 School Place,Las Vegas,Nevada   \n",
       "3  402-688-7162            6 Monument Crossing,Omaha,Nebraska   \n",
       "4  917-394-6001       88 Cherokee Pass,New York City,New York   \n",
       "\n",
       "                     job_title membership_date  first_name   last_name      a  \n",
       "0          Assistant Professor       7/31/2013       Addie        Lush  False  \n",
       "1               Programmer III       5/27/2018        Rock     Cradick  False  \n",
       "2  Budget/Accounting Analyst I       10/6/2017       Sydel    Sharvell  False  \n",
       "3   Desktop Support Technician      10/20/2015  Constantin  De La Cruz  False  \n",
       "4              Legal Assistant       5/29/2019      Gaylor     Redhole  False  "
      ]
     },
     "execution_count": 109,
     "metadata": {},
     "output_type": "execute_result"
    }
   ],
   "source": [
    "df.head()"
   ]
  },
  {
   "cell_type": "code",
   "execution_count": 95,
   "metadata": {},
   "outputs": [],
   "source": [
    "df.last_name = df.last_name.str.title()"
   ]
  },
  {
   "attachments": {},
   "cell_type": "markdown",
   "metadata": {},
   "source": [
    "### clean `martial_status`"
   ]
  },
  {
   "cell_type": "code",
   "execution_count": 100,
   "metadata": {},
   "outputs": [
    {
     "data": {
      "text/plain": [
       "martial_status\n",
       "married      868\n",
       "single       649\n",
       "divorced     282\n",
       "separated    167\n",
       "Name: count, dtype: int64"
      ]
     },
     "execution_count": 100,
     "metadata": {},
     "output_type": "execute_result"
    }
   ],
   "source": [
    "df.martial_status.value_counts()"
   ]
  },
  {
   "cell_type": "code",
   "execution_count": 99,
   "metadata": {},
   "outputs": [],
   "source": [
    "df.loc[df.martial_status == 'divored','martial_status'] = 'divorced'"
   ]
  },
  {
   "attachments": {},
   "cell_type": "markdown",
   "metadata": {},
   "source": [
    "### Clean `phone` column"
   ]
  },
  {
   "cell_type": "code",
   "execution_count": 123,
   "metadata": {},
   "outputs": [
    {
     "data": {
      "text/plain": [
       "phone\n",
       "12.0    1973\n",
       "8.0        2\n",
       "11.0       2\n",
       "10.0       1\n",
       "Name: count, dtype: int64"
      ]
     },
     "execution_count": 123,
     "metadata": {},
     "output_type": "execute_result"
    }
   ],
   "source": [
    "df.phone.str.len().value_counts()"
   ]
  },
  {
   "cell_type": "code",
   "execution_count": 126,
   "metadata": {},
   "outputs": [],
   "source": [
    "df.drop(df.loc[df.phone.str.len() <12].index,inplace=True)"
   ]
  },
  {
   "cell_type": "code",
   "execution_count": 127,
   "metadata": {},
   "outputs": [
    {
     "data": {
      "text/plain": [
       "phone\n",
       "12.0    1973\n",
       "Name: count, dtype: int64"
      ]
     },
     "execution_count": 127,
     "metadata": {},
     "output_type": "execute_result"
    }
   ],
   "source": [
    "df.phone.str.len().value_counts()"
   ]
  },
  {
   "attachments": {},
   "cell_type": "markdown",
   "metadata": {},
   "source": [
    "### Clean `full_address`, split into street, city, state columns"
   ]
  },
  {
   "cell_type": "code",
   "execution_count": 128,
   "metadata": {},
   "outputs": [],
   "source": [
    "df[['street','city','state']] = df.full_address.str.split(',',expand=True)"
   ]
  },
  {
   "cell_type": "code",
   "execution_count": 137,
   "metadata": {},
   "outputs": [
    {
     "data": {
      "text/html": [
       "<div>\n",
       "<style scoped>\n",
       "    .dataframe tbody tr th:only-of-type {\n",
       "        vertical-align: middle;\n",
       "    }\n",
       "\n",
       "    .dataframe tbody tr th {\n",
       "        vertical-align: top;\n",
       "    }\n",
       "\n",
       "    .dataframe thead th {\n",
       "        text-align: right;\n",
       "    }\n",
       "</style>\n",
       "<table border=\"1\" class=\"dataframe\">\n",
       "  <thead>\n",
       "    <tr style=\"text-align: right;\">\n",
       "      <th></th>\n",
       "      <th>full_name</th>\n",
       "      <th>age</th>\n",
       "      <th>martial_status</th>\n",
       "      <th>email</th>\n",
       "      <th>phone</th>\n",
       "      <th>full_address</th>\n",
       "      <th>job_title</th>\n",
       "      <th>membership_date</th>\n",
       "      <th>first_name</th>\n",
       "      <th>last_name</th>\n",
       "      <th>street</th>\n",
       "      <th>city</th>\n",
       "      <th>state</th>\n",
       "      <th>job_level</th>\n",
       "    </tr>\n",
       "  </thead>\n",
       "  <tbody>\n",
       "    <tr>\n",
       "      <th>0</th>\n",
       "      <td>addie lush</td>\n",
       "      <td>40.0</td>\n",
       "      <td>married</td>\n",
       "      <td>alush0@shutterfly.com</td>\n",
       "      <td>254-389-8708</td>\n",
       "      <td>3226 Eastlawn Pass,Temple,Texas</td>\n",
       "      <td>Assistant Professor</td>\n",
       "      <td>7/31/2013</td>\n",
       "      <td>Addie</td>\n",
       "      <td>Lush</td>\n",
       "      <td>3226 Eastlawn Pass</td>\n",
       "      <td>Temple</td>\n",
       "      <td>Texas</td>\n",
       "      <td>[Assistant, Professor]</td>\n",
       "    </tr>\n",
       "    <tr>\n",
       "      <th>1</th>\n",
       "      <td>ROCK CRADICK</td>\n",
       "      <td>46.0</td>\n",
       "      <td>married</td>\n",
       "      <td>rcradick1@newsvine.com</td>\n",
       "      <td>910-566-2007</td>\n",
       "      <td>4 Harbort Avenue,Fayetteville,North Carolina</td>\n",
       "      <td>Programmer III</td>\n",
       "      <td>5/27/2018</td>\n",
       "      <td>Rock</td>\n",
       "      <td>Cradick</td>\n",
       "      <td>4 Harbort Avenue</td>\n",
       "      <td>Fayetteville</td>\n",
       "      <td>North Carolina</td>\n",
       "      <td>[Programmer, III]</td>\n",
       "    </tr>\n",
       "    <tr>\n",
       "      <th>2</th>\n",
       "      <td>???Sydel Sharvell</td>\n",
       "      <td>46.0</td>\n",
       "      <td>divorced</td>\n",
       "      <td>ssharvell2@amazon.co.jp</td>\n",
       "      <td>702-187-8715</td>\n",
       "      <td>4 School Place,Las Vegas,Nevada</td>\n",
       "      <td>Budget/Accounting Analyst I</td>\n",
       "      <td>10/6/2017</td>\n",
       "      <td>Sydel</td>\n",
       "      <td>Sharvell</td>\n",
       "      <td>4 School Place</td>\n",
       "      <td>Las Vegas</td>\n",
       "      <td>Nevada</td>\n",
       "      <td>[Budget/Accounting, Analyst, I]</td>\n",
       "    </tr>\n",
       "    <tr>\n",
       "      <th>3</th>\n",
       "      <td>Constantin de la cruz</td>\n",
       "      <td>35.0</td>\n",
       "      <td>NaN</td>\n",
       "      <td>co3@bloglines.com</td>\n",
       "      <td>402-688-7162</td>\n",
       "      <td>6 Monument Crossing,Omaha,Nebraska</td>\n",
       "      <td>Desktop Support Technician</td>\n",
       "      <td>10/20/2015</td>\n",
       "      <td>Constantin</td>\n",
       "      <td>De La Cruz</td>\n",
       "      <td>6 Monument Crossing</td>\n",
       "      <td>Omaha</td>\n",
       "      <td>Nebraska</td>\n",
       "      <td>[Desktop, Support, Technician]</td>\n",
       "    </tr>\n",
       "    <tr>\n",
       "      <th>4</th>\n",
       "      <td>Gaylor Redhole</td>\n",
       "      <td>38.0</td>\n",
       "      <td>married</td>\n",
       "      <td>gredhole4@japanpost.jp</td>\n",
       "      <td>917-394-6001</td>\n",
       "      <td>88 Cherokee Pass,New York City,New York</td>\n",
       "      <td>Legal Assistant</td>\n",
       "      <td>5/29/2019</td>\n",
       "      <td>Gaylor</td>\n",
       "      <td>Redhole</td>\n",
       "      <td>88 Cherokee Pass</td>\n",
       "      <td>New York City</td>\n",
       "      <td>New York</td>\n",
       "      <td>[Legal, Assistant]</td>\n",
       "    </tr>\n",
       "  </tbody>\n",
       "</table>\n",
       "</div>"
      ],
      "text/plain": [
       "               full_name   age martial_status                    email   \n",
       "0             addie lush  40.0        married    alush0@shutterfly.com  \\\n",
       "1           ROCK CRADICK  46.0        married   rcradick1@newsvine.com   \n",
       "2      ???Sydel Sharvell  46.0       divorced  ssharvell2@amazon.co.jp   \n",
       "3  Constantin de la cruz  35.0            NaN        co3@bloglines.com   \n",
       "4         Gaylor Redhole  38.0        married   gredhole4@japanpost.jp   \n",
       "\n",
       "          phone                                  full_address   \n",
       "0  254-389-8708               3226 Eastlawn Pass,Temple,Texas  \\\n",
       "1  910-566-2007  4 Harbort Avenue,Fayetteville,North Carolina   \n",
       "2  702-187-8715               4 School Place,Las Vegas,Nevada   \n",
       "3  402-688-7162            6 Monument Crossing,Omaha,Nebraska   \n",
       "4  917-394-6001       88 Cherokee Pass,New York City,New York   \n",
       "\n",
       "                     job_title membership_date  first_name   last_name   \n",
       "0          Assistant Professor       7/31/2013       Addie        Lush  \\\n",
       "1               Programmer III       5/27/2018        Rock     Cradick   \n",
       "2  Budget/Accounting Analyst I       10/6/2017       Sydel    Sharvell   \n",
       "3   Desktop Support Technician      10/20/2015  Constantin  De La Cruz   \n",
       "4              Legal Assistant       5/29/2019      Gaylor     Redhole   \n",
       "\n",
       "                street           city           state   \n",
       "0   3226 Eastlawn Pass         Temple           Texas  \\\n",
       "1     4 Harbort Avenue   Fayetteville  North Carolina   \n",
       "2       4 School Place      Las Vegas          Nevada   \n",
       "3  6 Monument Crossing          Omaha        Nebraska   \n",
       "4     88 Cherokee Pass  New York City        New York   \n",
       "\n",
       "                         job_level  \n",
       "0           [Assistant, Professor]  \n",
       "1                [Programmer, III]  \n",
       "2  [Budget/Accounting, Analyst, I]  \n",
       "3   [Desktop, Support, Technician]  \n",
       "4               [Legal, Assistant]  "
      ]
     },
     "execution_count": 137,
     "metadata": {},
     "output_type": "execute_result"
    }
   ],
   "source": [
    "df.head()"
   ]
  },
  {
   "attachments": {},
   "cell_type": "markdown",
   "metadata": {},
   "source": [
    "### Clean `job_title` column"
   ]
  },
  {
   "cell_type": "code",
   "execution_count": 130,
   "metadata": {},
   "outputs": [
    {
     "data": {
      "text/plain": [
       "0               Assistant Professor\n",
       "1                    Programmer III\n",
       "2       Budget/Accounting Analyst I\n",
       "3        Desktop Support Technician\n",
       "4                   Legal Assistant\n",
       "                   ...             \n",
       "2005                  Accountant II\n",
       "2006       Senior Financial Analyst\n",
       "2007         Research Assistant III\n",
       "2008             Nurse Practicioner\n",
       "2009              Account Executive\n",
       "Name: job_title, Length: 1981, dtype: object"
      ]
     },
     "execution_count": 130,
     "metadata": {},
     "output_type": "execute_result"
    }
   ],
   "source": [
    "df.job_title"
   ]
  },
  {
   "cell_type": "code",
   "execution_count": 139,
   "metadata": {},
   "outputs": [],
   "source": [
    "df[['Job_title','job_level']]=df.job_title.str.rsplit(' ',n=1, expand=True)"
   ]
  },
  {
   "cell_type": "code",
   "execution_count": 140,
   "metadata": {},
   "outputs": [
    {
     "data": {
      "text/html": [
       "<div>\n",
       "<style scoped>\n",
       "    .dataframe tbody tr th:only-of-type {\n",
       "        vertical-align: middle;\n",
       "    }\n",
       "\n",
       "    .dataframe tbody tr th {\n",
       "        vertical-align: top;\n",
       "    }\n",
       "\n",
       "    .dataframe thead th {\n",
       "        text-align: right;\n",
       "    }\n",
       "</style>\n",
       "<table border=\"1\" class=\"dataframe\">\n",
       "  <thead>\n",
       "    <tr style=\"text-align: right;\">\n",
       "      <th></th>\n",
       "      <th>full_name</th>\n",
       "      <th>age</th>\n",
       "      <th>martial_status</th>\n",
       "      <th>email</th>\n",
       "      <th>phone</th>\n",
       "      <th>full_address</th>\n",
       "      <th>job_title</th>\n",
       "      <th>membership_date</th>\n",
       "      <th>first_name</th>\n",
       "      <th>last_name</th>\n",
       "      <th>street</th>\n",
       "      <th>city</th>\n",
       "      <th>state</th>\n",
       "      <th>Job_title</th>\n",
       "      <th>job_level</th>\n",
       "    </tr>\n",
       "  </thead>\n",
       "  <tbody>\n",
       "    <tr>\n",
       "      <th>0</th>\n",
       "      <td>addie lush</td>\n",
       "      <td>40.0</td>\n",
       "      <td>married</td>\n",
       "      <td>alush0@shutterfly.com</td>\n",
       "      <td>254-389-8708</td>\n",
       "      <td>3226 Eastlawn Pass,Temple,Texas</td>\n",
       "      <td>Assistant Professor</td>\n",
       "      <td>7/31/2013</td>\n",
       "      <td>Addie</td>\n",
       "      <td>Lush</td>\n",
       "      <td>3226 Eastlawn Pass</td>\n",
       "      <td>Temple</td>\n",
       "      <td>Texas</td>\n",
       "      <td>Assistant</td>\n",
       "      <td>Professor</td>\n",
       "    </tr>\n",
       "    <tr>\n",
       "      <th>1</th>\n",
       "      <td>ROCK CRADICK</td>\n",
       "      <td>46.0</td>\n",
       "      <td>married</td>\n",
       "      <td>rcradick1@newsvine.com</td>\n",
       "      <td>910-566-2007</td>\n",
       "      <td>4 Harbort Avenue,Fayetteville,North Carolina</td>\n",
       "      <td>Programmer III</td>\n",
       "      <td>5/27/2018</td>\n",
       "      <td>Rock</td>\n",
       "      <td>Cradick</td>\n",
       "      <td>4 Harbort Avenue</td>\n",
       "      <td>Fayetteville</td>\n",
       "      <td>North Carolina</td>\n",
       "      <td>Programmer</td>\n",
       "      <td>III</td>\n",
       "    </tr>\n",
       "    <tr>\n",
       "      <th>2</th>\n",
       "      <td>???Sydel Sharvell</td>\n",
       "      <td>46.0</td>\n",
       "      <td>divorced</td>\n",
       "      <td>ssharvell2@amazon.co.jp</td>\n",
       "      <td>702-187-8715</td>\n",
       "      <td>4 School Place,Las Vegas,Nevada</td>\n",
       "      <td>Budget/Accounting Analyst I</td>\n",
       "      <td>10/6/2017</td>\n",
       "      <td>Sydel</td>\n",
       "      <td>Sharvell</td>\n",
       "      <td>4 School Place</td>\n",
       "      <td>Las Vegas</td>\n",
       "      <td>Nevada</td>\n",
       "      <td>Budget/Accounting Analyst</td>\n",
       "      <td>I</td>\n",
       "    </tr>\n",
       "    <tr>\n",
       "      <th>3</th>\n",
       "      <td>Constantin de la cruz</td>\n",
       "      <td>35.0</td>\n",
       "      <td>NaN</td>\n",
       "      <td>co3@bloglines.com</td>\n",
       "      <td>402-688-7162</td>\n",
       "      <td>6 Monument Crossing,Omaha,Nebraska</td>\n",
       "      <td>Desktop Support Technician</td>\n",
       "      <td>10/20/2015</td>\n",
       "      <td>Constantin</td>\n",
       "      <td>De La Cruz</td>\n",
       "      <td>6 Monument Crossing</td>\n",
       "      <td>Omaha</td>\n",
       "      <td>Nebraska</td>\n",
       "      <td>Desktop Support</td>\n",
       "      <td>Technician</td>\n",
       "    </tr>\n",
       "    <tr>\n",
       "      <th>4</th>\n",
       "      <td>Gaylor Redhole</td>\n",
       "      <td>38.0</td>\n",
       "      <td>married</td>\n",
       "      <td>gredhole4@japanpost.jp</td>\n",
       "      <td>917-394-6001</td>\n",
       "      <td>88 Cherokee Pass,New York City,New York</td>\n",
       "      <td>Legal Assistant</td>\n",
       "      <td>5/29/2019</td>\n",
       "      <td>Gaylor</td>\n",
       "      <td>Redhole</td>\n",
       "      <td>88 Cherokee Pass</td>\n",
       "      <td>New York City</td>\n",
       "      <td>New York</td>\n",
       "      <td>Legal</td>\n",
       "      <td>Assistant</td>\n",
       "    </tr>\n",
       "  </tbody>\n",
       "</table>\n",
       "</div>"
      ],
      "text/plain": [
       "               full_name   age martial_status                    email   \n",
       "0             addie lush  40.0        married    alush0@shutterfly.com  \\\n",
       "1           ROCK CRADICK  46.0        married   rcradick1@newsvine.com   \n",
       "2      ???Sydel Sharvell  46.0       divorced  ssharvell2@amazon.co.jp   \n",
       "3  Constantin de la cruz  35.0            NaN        co3@bloglines.com   \n",
       "4         Gaylor Redhole  38.0        married   gredhole4@japanpost.jp   \n",
       "\n",
       "          phone                                  full_address   \n",
       "0  254-389-8708               3226 Eastlawn Pass,Temple,Texas  \\\n",
       "1  910-566-2007  4 Harbort Avenue,Fayetteville,North Carolina   \n",
       "2  702-187-8715               4 School Place,Las Vegas,Nevada   \n",
       "3  402-688-7162            6 Monument Crossing,Omaha,Nebraska   \n",
       "4  917-394-6001       88 Cherokee Pass,New York City,New York   \n",
       "\n",
       "                     job_title membership_date  first_name   last_name   \n",
       "0          Assistant Professor       7/31/2013       Addie        Lush  \\\n",
       "1               Programmer III       5/27/2018        Rock     Cradick   \n",
       "2  Budget/Accounting Analyst I       10/6/2017       Sydel    Sharvell   \n",
       "3   Desktop Support Technician      10/20/2015  Constantin  De La Cruz   \n",
       "4              Legal Assistant       5/29/2019      Gaylor     Redhole   \n",
       "\n",
       "                street           city           state   \n",
       "0   3226 Eastlawn Pass         Temple           Texas  \\\n",
       "1     4 Harbort Avenue   Fayetteville  North Carolina   \n",
       "2       4 School Place      Las Vegas          Nevada   \n",
       "3  6 Monument Crossing          Omaha        Nebraska   \n",
       "4     88 Cherokee Pass  New York City        New York   \n",
       "\n",
       "                   Job_title   job_level  \n",
       "0                  Assistant   Professor  \n",
       "1                 Programmer         III  \n",
       "2  Budget/Accounting Analyst           I  \n",
       "3            Desktop Support  Technician  \n",
       "4                      Legal   Assistant  "
      ]
     },
     "execution_count": 140,
     "metadata": {},
     "output_type": "execute_result"
    }
   ],
   "source": [
    "df.head()"
   ]
  },
  {
   "cell_type": "code",
   "execution_count": 142,
   "metadata": {},
   "outputs": [],
   "source": [
    "df['Job_level'] = np.where(df.job_level.isin(['I','II','III','IV','V']), df.job_level, None)"
   ]
  },
  {
   "cell_type": "code",
   "execution_count": 160,
   "metadata": {},
   "outputs": [],
   "source": [
    "new = df.job_title.str.rsplit(' ',n=1,expand=True)"
   ]
  },
  {
   "cell_type": "code",
   "execution_count": 162,
   "metadata": {},
   "outputs": [
    {
     "data": {
      "text/plain": [
       "0          Professor\n",
       "1                III\n",
       "2                  I\n",
       "3         Technician\n",
       "4          Assistant\n",
       "            ...     \n",
       "2005              II\n",
       "2006         Analyst\n",
       "2007             III\n",
       "2008    Practicioner\n",
       "2009       Executive\n",
       "Name: 1, Length: 1981, dtype: object"
      ]
     },
     "execution_count": 162,
     "metadata": {},
     "output_type": "execute_result"
    }
   ],
   "source": [
    "new[1]"
   ]
  },
  {
   "cell_type": "code",
   "execution_count": 165,
   "metadata": {},
   "outputs": [],
   "source": [
    "df['Job_lv'] = np.where(\n",
    "    new[1].isin(['I','II','III','IV','V']), new[1], None\n",
    ")"
   ]
  },
  {
   "cell_type": "code",
   "execution_count": 169,
   "metadata": {},
   "outputs": [
    {
     "data": {
      "text/html": [
       "<div>\n",
       "<style scoped>\n",
       "    .dataframe tbody tr th:only-of-type {\n",
       "        vertical-align: middle;\n",
       "    }\n",
       "\n",
       "    .dataframe tbody tr th {\n",
       "        vertical-align: top;\n",
       "    }\n",
       "\n",
       "    .dataframe thead th {\n",
       "        text-align: right;\n",
       "    }\n",
       "</style>\n",
       "<table border=\"1\" class=\"dataframe\">\n",
       "  <thead>\n",
       "    <tr style=\"text-align: right;\">\n",
       "      <th></th>\n",
       "      <th>full_name</th>\n",
       "      <th>age</th>\n",
       "      <th>martial_status</th>\n",
       "      <th>email</th>\n",
       "      <th>phone</th>\n",
       "      <th>full_address</th>\n",
       "      <th>job_title</th>\n",
       "      <th>membership_date</th>\n",
       "      <th>first_name</th>\n",
       "      <th>last_name</th>\n",
       "      <th>street</th>\n",
       "      <th>city</th>\n",
       "      <th>state</th>\n",
       "      <th>Job_lv</th>\n",
       "    </tr>\n",
       "  </thead>\n",
       "  <tbody>\n",
       "    <tr>\n",
       "      <th>0</th>\n",
       "      <td>addie lush</td>\n",
       "      <td>40.0</td>\n",
       "      <td>married</td>\n",
       "      <td>alush0@shutterfly.com</td>\n",
       "      <td>254-389-8708</td>\n",
       "      <td>3226 Eastlawn Pass,Temple,Texas</td>\n",
       "      <td>Assistant Professor</td>\n",
       "      <td>7/31/2013</td>\n",
       "      <td>Addie</td>\n",
       "      <td>Lush</td>\n",
       "      <td>3226 Eastlawn Pass</td>\n",
       "      <td>Temple</td>\n",
       "      <td>Texas</td>\n",
       "      <td>None</td>\n",
       "    </tr>\n",
       "    <tr>\n",
       "      <th>1</th>\n",
       "      <td>ROCK CRADICK</td>\n",
       "      <td>46.0</td>\n",
       "      <td>married</td>\n",
       "      <td>rcradick1@newsvine.com</td>\n",
       "      <td>910-566-2007</td>\n",
       "      <td>4 Harbort Avenue,Fayetteville,North Carolina</td>\n",
       "      <td>Programmer III</td>\n",
       "      <td>5/27/2018</td>\n",
       "      <td>Rock</td>\n",
       "      <td>Cradick</td>\n",
       "      <td>4 Harbort Avenue</td>\n",
       "      <td>Fayetteville</td>\n",
       "      <td>North Carolina</td>\n",
       "      <td>III</td>\n",
       "    </tr>\n",
       "    <tr>\n",
       "      <th>2</th>\n",
       "      <td>???Sydel Sharvell</td>\n",
       "      <td>46.0</td>\n",
       "      <td>divorced</td>\n",
       "      <td>ssharvell2@amazon.co.jp</td>\n",
       "      <td>702-187-8715</td>\n",
       "      <td>4 School Place,Las Vegas,Nevada</td>\n",
       "      <td>Budget/Accounting Analyst I</td>\n",
       "      <td>10/6/2017</td>\n",
       "      <td>Sydel</td>\n",
       "      <td>Sharvell</td>\n",
       "      <td>4 School Place</td>\n",
       "      <td>Las Vegas</td>\n",
       "      <td>Nevada</td>\n",
       "      <td>I</td>\n",
       "    </tr>\n",
       "    <tr>\n",
       "      <th>3</th>\n",
       "      <td>Constantin de la cruz</td>\n",
       "      <td>35.0</td>\n",
       "      <td>NaN</td>\n",
       "      <td>co3@bloglines.com</td>\n",
       "      <td>402-688-7162</td>\n",
       "      <td>6 Monument Crossing,Omaha,Nebraska</td>\n",
       "      <td>Desktop Support Technician</td>\n",
       "      <td>10/20/2015</td>\n",
       "      <td>Constantin</td>\n",
       "      <td>De La Cruz</td>\n",
       "      <td>6 Monument Crossing</td>\n",
       "      <td>Omaha</td>\n",
       "      <td>Nebraska</td>\n",
       "      <td>None</td>\n",
       "    </tr>\n",
       "    <tr>\n",
       "      <th>4</th>\n",
       "      <td>Gaylor Redhole</td>\n",
       "      <td>38.0</td>\n",
       "      <td>married</td>\n",
       "      <td>gredhole4@japanpost.jp</td>\n",
       "      <td>917-394-6001</td>\n",
       "      <td>88 Cherokee Pass,New York City,New York</td>\n",
       "      <td>Legal Assistant</td>\n",
       "      <td>5/29/2019</td>\n",
       "      <td>Gaylor</td>\n",
       "      <td>Redhole</td>\n",
       "      <td>88 Cherokee Pass</td>\n",
       "      <td>New York City</td>\n",
       "      <td>New York</td>\n",
       "      <td>None</td>\n",
       "    </tr>\n",
       "  </tbody>\n",
       "</table>\n",
       "</div>"
      ],
      "text/plain": [
       "               full_name   age martial_status                    email   \n",
       "0             addie lush  40.0        married    alush0@shutterfly.com  \\\n",
       "1           ROCK CRADICK  46.0        married   rcradick1@newsvine.com   \n",
       "2      ???Sydel Sharvell  46.0       divorced  ssharvell2@amazon.co.jp   \n",
       "3  Constantin de la cruz  35.0            NaN        co3@bloglines.com   \n",
       "4         Gaylor Redhole  38.0        married   gredhole4@japanpost.jp   \n",
       "\n",
       "          phone                                  full_address   \n",
       "0  254-389-8708               3226 Eastlawn Pass,Temple,Texas  \\\n",
       "1  910-566-2007  4 Harbort Avenue,Fayetteville,North Carolina   \n",
       "2  702-187-8715               4 School Place,Las Vegas,Nevada   \n",
       "3  402-688-7162            6 Monument Crossing,Omaha,Nebraska   \n",
       "4  917-394-6001       88 Cherokee Pass,New York City,New York   \n",
       "\n",
       "                     job_title membership_date  first_name   last_name   \n",
       "0          Assistant Professor       7/31/2013       Addie        Lush  \\\n",
       "1               Programmer III       5/27/2018        Rock     Cradick   \n",
       "2  Budget/Accounting Analyst I       10/6/2017       Sydel    Sharvell   \n",
       "3   Desktop Support Technician      10/20/2015  Constantin  De La Cruz   \n",
       "4              Legal Assistant       5/29/2019      Gaylor     Redhole   \n",
       "\n",
       "                street           city           state Job_lv  \n",
       "0   3226 Eastlawn Pass         Temple           Texas   None  \n",
       "1     4 Harbort Avenue   Fayetteville  North Carolina    III  \n",
       "2       4 School Place      Las Vegas          Nevada      I  \n",
       "3  6 Monument Crossing          Omaha        Nebraska   None  \n",
       "4     88 Cherokee Pass  New York City        New York   None  "
      ]
     },
     "execution_count": 169,
     "metadata": {},
     "output_type": "execute_result"
    }
   ],
   "source": [
    "df.head()"
   ]
  },
  {
   "cell_type": "code",
   "execution_count": 171,
   "metadata": {},
   "outputs": [],
   "source": [
    "df['job'] = np.where(new[1].isin(['I','II','III','IV','V']), new[0], df.job_title)"
   ]
  },
  {
   "cell_type": "code",
   "execution_count": 172,
   "metadata": {},
   "outputs": [
    {
     "data": {
      "text/html": [
       "<div>\n",
       "<style scoped>\n",
       "    .dataframe tbody tr th:only-of-type {\n",
       "        vertical-align: middle;\n",
       "    }\n",
       "\n",
       "    .dataframe tbody tr th {\n",
       "        vertical-align: top;\n",
       "    }\n",
       "\n",
       "    .dataframe thead th {\n",
       "        text-align: right;\n",
       "    }\n",
       "</style>\n",
       "<table border=\"1\" class=\"dataframe\">\n",
       "  <thead>\n",
       "    <tr style=\"text-align: right;\">\n",
       "      <th></th>\n",
       "      <th>full_name</th>\n",
       "      <th>age</th>\n",
       "      <th>martial_status</th>\n",
       "      <th>email</th>\n",
       "      <th>phone</th>\n",
       "      <th>full_address</th>\n",
       "      <th>job_title</th>\n",
       "      <th>membership_date</th>\n",
       "      <th>first_name</th>\n",
       "      <th>last_name</th>\n",
       "      <th>street</th>\n",
       "      <th>city</th>\n",
       "      <th>state</th>\n",
       "      <th>Job_lv</th>\n",
       "      <th>job</th>\n",
       "    </tr>\n",
       "  </thead>\n",
       "  <tbody>\n",
       "    <tr>\n",
       "      <th>0</th>\n",
       "      <td>addie lush</td>\n",
       "      <td>40.0</td>\n",
       "      <td>married</td>\n",
       "      <td>alush0@shutterfly.com</td>\n",
       "      <td>254-389-8708</td>\n",
       "      <td>3226 Eastlawn Pass,Temple,Texas</td>\n",
       "      <td>Assistant Professor</td>\n",
       "      <td>7/31/2013</td>\n",
       "      <td>Addie</td>\n",
       "      <td>Lush</td>\n",
       "      <td>3226 Eastlawn Pass</td>\n",
       "      <td>Temple</td>\n",
       "      <td>Texas</td>\n",
       "      <td>None</td>\n",
       "      <td>Assistant Professor</td>\n",
       "    </tr>\n",
       "    <tr>\n",
       "      <th>1</th>\n",
       "      <td>ROCK CRADICK</td>\n",
       "      <td>46.0</td>\n",
       "      <td>married</td>\n",
       "      <td>rcradick1@newsvine.com</td>\n",
       "      <td>910-566-2007</td>\n",
       "      <td>4 Harbort Avenue,Fayetteville,North Carolina</td>\n",
       "      <td>Programmer III</td>\n",
       "      <td>5/27/2018</td>\n",
       "      <td>Rock</td>\n",
       "      <td>Cradick</td>\n",
       "      <td>4 Harbort Avenue</td>\n",
       "      <td>Fayetteville</td>\n",
       "      <td>North Carolina</td>\n",
       "      <td>III</td>\n",
       "      <td>Programmer</td>\n",
       "    </tr>\n",
       "    <tr>\n",
       "      <th>2</th>\n",
       "      <td>???Sydel Sharvell</td>\n",
       "      <td>46.0</td>\n",
       "      <td>divorced</td>\n",
       "      <td>ssharvell2@amazon.co.jp</td>\n",
       "      <td>702-187-8715</td>\n",
       "      <td>4 School Place,Las Vegas,Nevada</td>\n",
       "      <td>Budget/Accounting Analyst I</td>\n",
       "      <td>10/6/2017</td>\n",
       "      <td>Sydel</td>\n",
       "      <td>Sharvell</td>\n",
       "      <td>4 School Place</td>\n",
       "      <td>Las Vegas</td>\n",
       "      <td>Nevada</td>\n",
       "      <td>I</td>\n",
       "      <td>Budget/Accounting Analyst</td>\n",
       "    </tr>\n",
       "    <tr>\n",
       "      <th>3</th>\n",
       "      <td>Constantin de la cruz</td>\n",
       "      <td>35.0</td>\n",
       "      <td>NaN</td>\n",
       "      <td>co3@bloglines.com</td>\n",
       "      <td>402-688-7162</td>\n",
       "      <td>6 Monument Crossing,Omaha,Nebraska</td>\n",
       "      <td>Desktop Support Technician</td>\n",
       "      <td>10/20/2015</td>\n",
       "      <td>Constantin</td>\n",
       "      <td>De La Cruz</td>\n",
       "      <td>6 Monument Crossing</td>\n",
       "      <td>Omaha</td>\n",
       "      <td>Nebraska</td>\n",
       "      <td>None</td>\n",
       "      <td>Desktop Support Technician</td>\n",
       "    </tr>\n",
       "    <tr>\n",
       "      <th>4</th>\n",
       "      <td>Gaylor Redhole</td>\n",
       "      <td>38.0</td>\n",
       "      <td>married</td>\n",
       "      <td>gredhole4@japanpost.jp</td>\n",
       "      <td>917-394-6001</td>\n",
       "      <td>88 Cherokee Pass,New York City,New York</td>\n",
       "      <td>Legal Assistant</td>\n",
       "      <td>5/29/2019</td>\n",
       "      <td>Gaylor</td>\n",
       "      <td>Redhole</td>\n",
       "      <td>88 Cherokee Pass</td>\n",
       "      <td>New York City</td>\n",
       "      <td>New York</td>\n",
       "      <td>None</td>\n",
       "      <td>Legal Assistant</td>\n",
       "    </tr>\n",
       "  </tbody>\n",
       "</table>\n",
       "</div>"
      ],
      "text/plain": [
       "               full_name   age martial_status                    email   \n",
       "0             addie lush  40.0        married    alush0@shutterfly.com  \\\n",
       "1           ROCK CRADICK  46.0        married   rcradick1@newsvine.com   \n",
       "2      ???Sydel Sharvell  46.0       divorced  ssharvell2@amazon.co.jp   \n",
       "3  Constantin de la cruz  35.0            NaN        co3@bloglines.com   \n",
       "4         Gaylor Redhole  38.0        married   gredhole4@japanpost.jp   \n",
       "\n",
       "          phone                                  full_address   \n",
       "0  254-389-8708               3226 Eastlawn Pass,Temple,Texas  \\\n",
       "1  910-566-2007  4 Harbort Avenue,Fayetteville,North Carolina   \n",
       "2  702-187-8715               4 School Place,Las Vegas,Nevada   \n",
       "3  402-688-7162            6 Monument Crossing,Omaha,Nebraska   \n",
       "4  917-394-6001       88 Cherokee Pass,New York City,New York   \n",
       "\n",
       "                     job_title membership_date  first_name   last_name   \n",
       "0          Assistant Professor       7/31/2013       Addie        Lush  \\\n",
       "1               Programmer III       5/27/2018        Rock     Cradick   \n",
       "2  Budget/Accounting Analyst I       10/6/2017       Sydel    Sharvell   \n",
       "3   Desktop Support Technician      10/20/2015  Constantin  De La Cruz   \n",
       "4              Legal Assistant       5/29/2019      Gaylor     Redhole   \n",
       "\n",
       "                street           city           state Job_lv   \n",
       "0   3226 Eastlawn Pass         Temple           Texas   None  \\\n",
       "1     4 Harbort Avenue   Fayetteville  North Carolina    III   \n",
       "2       4 School Place      Las Vegas          Nevada      I   \n",
       "3  6 Monument Crossing          Omaha        Nebraska   None   \n",
       "4     88 Cherokee Pass  New York City        New York   None   \n",
       "\n",
       "                          job  \n",
       "0         Assistant Professor  \n",
       "1                  Programmer  \n",
       "2   Budget/Accounting Analyst  \n",
       "3  Desktop Support Technician  \n",
       "4             Legal Assistant  "
      ]
     },
     "execution_count": 172,
     "metadata": {},
     "output_type": "execute_result"
    }
   ],
   "source": [
    "df.head()"
   ]
  },
  {
   "attachments": {},
   "cell_type": "markdown",
   "metadata": {},
   "source": [
    "### Clean `membership_date` column"
   ]
  },
  {
   "cell_type": "code",
   "execution_count": 174,
   "metadata": {},
   "outputs": [
    {
     "data": {
      "text/plain": [
       "dtype('O')"
      ]
     },
     "execution_count": 174,
     "metadata": {},
     "output_type": "execute_result"
    }
   ],
   "source": [
    "df.membership_date.dtypes"
   ]
  },
  {
   "cell_type": "code",
   "execution_count": 177,
   "metadata": {},
   "outputs": [],
   "source": [
    "df.membership_date = pd.to_datetime(df.membership_date)"
   ]
  },
  {
   "cell_type": "code",
   "execution_count": 179,
   "metadata": {},
   "outputs": [
    {
     "data": {
      "text/plain": [
       "dtype('<M8[ns]')"
      ]
     },
     "execution_count": 179,
     "metadata": {},
     "output_type": "execute_result"
    }
   ],
   "source": [
    "df.membership_date.dtypes"
   ]
  },
  {
   "cell_type": "code",
   "execution_count": 196,
   "metadata": {},
   "outputs": [
    {
     "data": {
      "text/plain": [
       "2012"
      ]
     },
     "execution_count": 196,
     "metadata": {},
     "output_type": "execute_result"
    }
   ],
   "source": [
    "df.membership_date.dt.year.min()"
   ]
  },
  {
   "cell_type": "code",
   "execution_count": 198,
   "metadata": {},
   "outputs": [
    {
     "data": {
      "text/plain": [
       "<Axes: >"
      ]
     },
     "execution_count": 198,
     "metadata": {},
     "output_type": "execute_result"
    },
    {
     "data": {
      "image/png": "[encoded data removed]",
      "text/plain": [
       "<Figure size 640x480 with 1 Axes>"
      ]
     },
     "metadata": {},
     "output_type": "display_data"
    }
   ],
   "source": [
    "df.membership_date.dt.year.plot(kind='box')"
   ]
  },
  {
   "attachments": {},
   "cell_type": "markdown",
   "metadata": {},
   "source": [
    "### Clean `email` column\n"
   ]
  },
  {
   "cell_type": "code",
   "execution_count": 200,
   "metadata": {},
   "outputs": [
    {
     "data": {
      "text/plain": [
       "email\n",
       "True    1966\n",
       "Name: count, dtype: int64"
      ]
     },
     "execution_count": 200,
     "metadata": {},
     "output_type": "execute_result"
    }
   ],
   "source": [
    "df.email.str.contains('@').value_counts()"
   ]
  },
  {
   "cell_type": "code",
   "execution_count": 202,
   "metadata": {},
   "outputs": [],
   "source": [
    "df.email = df.email.str.strip()"
   ]
  },
  {
   "cell_type": "code",
   "execution_count": 205,
   "metadata": {},
   "outputs": [],
   "source": [
    "df.drop(['full_name','full_address','job_title'], axis=1,inplace=True)"
   ]
  },
  {
   "cell_type": "code",
   "execution_count": 206,
   "metadata": {},
   "outputs": [
    {
     "data": {
      "text/html": [
       "<div>\n",
       "<style scoped>\n",
       "    .dataframe tbody tr th:only-of-type {\n",
       "        vertical-align: middle;\n",
       "    }\n",
       "\n",
       "    .dataframe tbody tr th {\n",
       "        vertical-align: top;\n",
       "    }\n",
       "\n",
       "    .dataframe thead th {\n",
       "        text-align: right;\n",
       "    }\n",
       "</style>\n",
       "<table border=\"1\" class=\"dataframe\">\n",
       "  <thead>\n",
       "    <tr style=\"text-align: right;\">\n",
       "      <th></th>\n",
       "      <th>age</th>\n",
       "      <th>martial_status</th>\n",
       "      <th>email</th>\n",
       "      <th>phone</th>\n",
       "      <th>membership_date</th>\n",
       "      <th>first_name</th>\n",
       "      <th>last_name</th>\n",
       "      <th>street</th>\n",
       "      <th>city</th>\n",
       "      <th>state</th>\n",
       "      <th>Job_lv</th>\n",
       "      <th>job</th>\n",
       "    </tr>\n",
       "  </thead>\n",
       "  <tbody>\n",
       "    <tr>\n",
       "      <th>0</th>\n",
       "      <td>40.0</td>\n",
       "      <td>married</td>\n",
       "      <td>alush0@shutterfly.com</td>\n",
       "      <td>254-389-8708</td>\n",
       "      <td>2013-07-31</td>\n",
       "      <td>Addie</td>\n",
       "      <td>Lush</td>\n",
       "      <td>3226 Eastlawn Pass</td>\n",
       "      <td>Temple</td>\n",
       "      <td>Texas</td>\n",
       "      <td>None</td>\n",
       "      <td>Assistant Professor</td>\n",
       "    </tr>\n",
       "    <tr>\n",
       "      <th>1</th>\n",
       "      <td>46.0</td>\n",
       "      <td>married</td>\n",
       "      <td>rcradick1@newsvine.com</td>\n",
       "      <td>910-566-2007</td>\n",
       "      <td>2018-05-27</td>\n",
       "      <td>Rock</td>\n",
       "      <td>Cradick</td>\n",
       "      <td>4 Harbort Avenue</td>\n",
       "      <td>Fayetteville</td>\n",
       "      <td>North Carolina</td>\n",
       "      <td>III</td>\n",
       "      <td>Programmer</td>\n",
       "    </tr>\n",
       "    <tr>\n",
       "      <th>2</th>\n",
       "      <td>46.0</td>\n",
       "      <td>divorced</td>\n",
       "      <td>ssharvell2@amazon.co.jp</td>\n",
       "      <td>702-187-8715</td>\n",
       "      <td>2017-10-06</td>\n",
       "      <td>Sydel</td>\n",
       "      <td>Sharvell</td>\n",
       "      <td>4 School Place</td>\n",
       "      <td>Las Vegas</td>\n",
       "      <td>Nevada</td>\n",
       "      <td>I</td>\n",
       "      <td>Budget/Accounting Analyst</td>\n",
       "    </tr>\n",
       "    <tr>\n",
       "      <th>3</th>\n",
       "      <td>35.0</td>\n",
       "      <td>NaN</td>\n",
       "      <td>co3@bloglines.com</td>\n",
       "      <td>402-688-7162</td>\n",
       "      <td>2015-10-20</td>\n",
       "      <td>Constantin</td>\n",
       "      <td>De La Cruz</td>\n",
       "      <td>6 Monument Crossing</td>\n",
       "      <td>Omaha</td>\n",
       "      <td>Nebraska</td>\n",
       "      <td>None</td>\n",
       "      <td>Desktop Support Technician</td>\n",
       "    </tr>\n",
       "    <tr>\n",
       "      <th>4</th>\n",
       "      <td>38.0</td>\n",
       "      <td>married</td>\n",
       "      <td>gredhole4@japanpost.jp</td>\n",
       "      <td>917-394-6001</td>\n",
       "      <td>2019-05-29</td>\n",
       "      <td>Gaylor</td>\n",
       "      <td>Redhole</td>\n",
       "      <td>88 Cherokee Pass</td>\n",
       "      <td>New York City</td>\n",
       "      <td>New York</td>\n",
       "      <td>None</td>\n",
       "      <td>Legal Assistant</td>\n",
       "    </tr>\n",
       "  </tbody>\n",
       "</table>\n",
       "</div>"
      ],
      "text/plain": [
       "    age martial_status                    email         phone membership_date   \n",
       "0  40.0        married    alush0@shutterfly.com  254-389-8708      2013-07-31  \\\n",
       "1  46.0        married   rcradick1@newsvine.com  910-566-2007      2018-05-27   \n",
       "2  46.0       divorced  ssharvell2@amazon.co.jp  702-187-8715      2017-10-06   \n",
       "3  35.0            NaN        co3@bloglines.com  402-688-7162      2015-10-20   \n",
       "4  38.0        married   gredhole4@japanpost.jp  917-394-6001      2019-05-29   \n",
       "\n",
       "   first_name   last_name               street           city           state   \n",
       "0       Addie        Lush   3226 Eastlawn Pass         Temple           Texas  \\\n",
       "1        Rock     Cradick     4 Harbort Avenue   Fayetteville  North Carolina   \n",
       "2       Sydel    Sharvell       4 School Place      Las Vegas          Nevada   \n",
       "3  Constantin  De La Cruz  6 Monument Crossing          Omaha        Nebraska   \n",
       "4      Gaylor     Redhole     88 Cherokee Pass  New York City        New York   \n",
       "\n",
       "  Job_lv                         job  \n",
       "0   None         Assistant Professor  \n",
       "1    III                  Programmer  \n",
       "2      I   Budget/Accounting Analyst  \n",
       "3   None  Desktop Support Technician  \n",
       "4   None             Legal Assistant  "
      ]
     },
     "execution_count": 206,
     "metadata": {},
     "output_type": "execute_result"
    }
   ],
   "source": [
    "df.head()"
   ]
  },
  {
   "cell_type": "code",
   "execution_count": null,
   "metadata": {},
   "outputs": [],
   "source": []
  }
 ],
 "metadata": {
  "kernelspec": {
   "display_name": "Python 3",
   "language": "python",
   "name": "python3"
  },
  "language_info": {
   "codemirror_mode": {
    "name": "ipython",
    "version": 3
   },
   "file_extension": ".py",
   "mimetype": "text/x-python",
   "name": "python",
   "nbconvert_exporter": "python",
   "pygments_lexer": "ipython3",
   "version": "3.10.11"
  },
  "orig_nbformat": 4
 },
 "nbformat": 4,
 "nbformat_minor": 2
}
